{
 "cells": [
  {
   "cell_type": "code",
   "execution_count": 150,
   "id": "18949055-78a1-442d-a48b-2f475f13b649",
   "metadata": {},
   "outputs": [],
   "source": [
    "#Importando as bibliotecas\n",
    "import warnings\n",
    "warnings.filterwarnings('ignore')\n",
    "#pandas\n",
    "import pandas as pd \n",
    "\n",
    "import matplotlib.pyplot as plt\n",
    "import matplotlib as mpl\n",
    "import locale\n",
    "\n"
   ]
  },
  {
   "cell_type": "code",
   "execution_count": 151,
   "id": "0e6d7c4e-9f0c-4519-8d21-dd4837921c94",
   "metadata": {},
   "outputs": [],
   "source": [
    "#importando o dataset\n",
    "\n",
    "#Dataset 16 ao 26/01/2024\n",
    "df_pacotes_entregues = pd.read_csv('./pacotes_entregue_01_08022024.csv',delimiter=';')\n"
   ]
  },
  {
   "cell_type": "code",
   "execution_count": 152,
   "id": "ed33a56f-3a89-456d-9058-d6ce33a81fcf",
   "metadata": {},
   "outputs": [
    {
     "data": {
      "text/plain": [
       "(190203, 14)"
      ]
     },
     "execution_count": 152,
     "metadata": {},
     "output_type": "execute_result"
    }
   ],
   "source": [
    "#Verificando a dimensão\n",
    "\n",
    "df_pacotes_entregues.shape"
   ]
  },
  {
   "cell_type": "code",
   "execution_count": 153,
   "id": "4136fbe8-1b75-41f1-8dc3-3ecf8d7e31b9",
   "metadata": {},
   "outputs": [
    {
     "data": {
      "text/plain": [
       "Número de pedido JMS         0\n",
       "Franqueado                   0\n",
       "Base de entrega              0\n",
       "Responsável pela entrega     0\n",
       "Marca de assinatura          0\n",
       "Valor Mercadoria             0\n",
       "CEP destino                  0\n",
       "Endereço completo            0\n",
       "Cidade Destino               0\n",
       "Distrito destinatário       25\n",
       "Destinatário                 0\n",
       "Horário da entrega           0\n",
       "CNPJ                         0\n",
       "Peso cobrável                0\n",
       "dtype: int64"
      ]
     },
     "execution_count": 153,
     "metadata": {},
     "output_type": "execute_result"
    }
   ],
   "source": [
    "#Verificando os nulos\n",
    "\n",
    "df_pacotes_entregues.isnull().sum()"
   ]
  },
  {
   "cell_type": "code",
   "execution_count": 154,
   "id": "b590d826-4195-4195-b97d-d36edf3c785d",
   "metadata": {},
   "outputs": [],
   "source": [
    "df_pacotes_entregues.rename(columns={'Número de pedido JMS':'NUMERO_PEDIDO_JMS',\n",
    "                                    'Franqueado':'FRANQUEADO',\n",
    "                                     'Responsável pela entrega':'AGREGADO',\n",
    "                                     'Valor Mercadoria':'VALOR_MERCADORIA',\n",
    "                                     'CEP destino':'CEP',\n",
    "                                     'Marca de assinatura':'ASSINATURA',\n",
    "                                     'Endereço completo':'ENDERECO_COMPLETO',\n",
    "                                     'Cidade Destino':'CIDADE',\n",
    "                                     'Distrito destinatário':'BAIRRO',\n",
    "                                     'Destinatário':'DESTINATARIO',\n",
    "                                     'Horário da entrega':'HORARIO_ENTREGA',\n",
    "                                     'Base de entrega':'BASE_ENTREGA',\n",
    "                                     'Peso cobrável':'PESO_COBRAVEL',\n",
    "                                     'CNPJ':'CPF_CNPJ'}, inplace=True)"
   ]
  },
  {
   "cell_type": "code",
   "execution_count": 155,
   "id": "76e3e7ed-83ce-41a6-9b57-4f6a775b1fbf",
   "metadata": {},
   "outputs": [],
   "source": [
    "#modificando as string para maiusculas\n",
    "\n",
    "df_pacotes_entregues['AGREGADO'] = df_pacotes_entregues['AGREGADO'].str.upper()\n",
    "\n",
    "df_pacotes_entregues['CIDADE'] = df_pacotes_entregues['CIDADE'].str.upper()\n",
    "\n",
    "df_pacotes_entregues['BAIRRO'] = df_pacotes_entregues['BAIRRO'].str.upper()\n",
    "\n",
    "df_pacotes_entregues['DESTINATARIO'] = df_pacotes_entregues['DESTINATARIO'].str.upper()\n",
    "\n",
    "df_pacotes_entregues['ASSINATURA'] = df_pacotes_entregues['ASSINATURA'].str.upper()\n",
    "\n",
    "df_pacotes_entregues['ENDERECO_COMPLETO'] = df_pacotes_entregues['ENDERECO_COMPLETO'].str.upper()\n",
    "\n"
   ]
  },
  {
   "cell_type": "code",
   "execution_count": 156,
   "id": "bd3a5f95-af2f-4025-8bcf-82481a1c3e59",
   "metadata": {},
   "outputs": [],
   "source": [
    "#Moficando o tipo do atributo para string\n",
    "\n",
    "df_pacotes_entregues['CPF_CNPJ'] = df_pacotes_entregues['CPF_CNPJ'].astype(str)\n",
    "\n",
    "#modifica a virgula por ponto\n",
    "\n",
    "df_pacotes_entregues['VALOR_MERCADORIA'] = df_pacotes_entregues['VALOR_MERCADORIA'].str.replace(',','.')\n",
    "\n",
    "df_pacotes_entregues['PESO_COBRAVEL'] = df_pacotes_entregues['PESO_COBRAVEL'].str.replace(',','.')\n",
    "\n",
    "#transformando o atributo em float\n",
    "\n",
    "df_pacotes_entregues['VALOR_MERCADORIA'] = df_pacotes_entregues['VALOR_MERCADORIA'].astype(float)\n",
    "\n",
    "df_pacotes_entregues['PESO_COBRAVEL'] = df_pacotes_entregues['PESO_COBRAVEL'].astype(float)\n"
   ]
  },
  {
   "cell_type": "code",
   "execution_count": 157,
   "id": "38aba437-47f3-4bb1-8c91-a5f107c88ba8",
   "metadata": {},
   "outputs": [],
   "source": [
    "#transformando no tipo datetime\n",
    "df_pacotes_entregues['HORARIO_ENTREGA'] = pd.to_datetime(df_pacotes_entregues['HORARIO_ENTREGA'])\n",
    "\n",
    "#Extrair somente a data\n",
    "df_pacotes_entregues['HORARIO_ENTREGA'] = df_pacotes_entregues['HORARIO_ENTREGA'].dt.date\n",
    "\n",
    "#Transformando novamente para datetime, porque quando extrai somente a data\n",
    "# o atributo é convertido para string(object)\n",
    "\n",
    "df_pacotes_entregues['HORARIO_ENTREGA'] = pd.to_datetime(df_pacotes_entregues['HORARIO_ENTREGA'])\n"
   ]
  },
  {
   "cell_type": "code",
   "execution_count": 158,
   "id": "bc702781-3844-4b53-9ba7-7c56a08550a0",
   "metadata": {},
   "outputs": [
    {
     "data": {
      "text/plain": [
       "(25, 14)"
      ]
     },
     "execution_count": 158,
     "metadata": {},
     "output_type": "execute_result"
    }
   ],
   "source": [
    "#Filtrando somente os valores nulos do atributo 'CEP'\n",
    "#Acima, filtrei somente os nulos e mostra que são multiplos que \n",
    "#não eram para ter aparecido.\n",
    "\n",
    "df_pacotes_nao_entregues = df_pacotes_entregues[df_pacotes_entregues['BAIRRO'].isna()]\n",
    "\n",
    "df_pacotes_nao_entregues.shape"
   ]
  },
  {
   "cell_type": "code",
   "execution_count": 159,
   "id": "b779d24d-09e2-45c7-9f77-3cb8dc5cc354",
   "metadata": {},
   "outputs": [
    {
     "data": {
      "text/plain": [
       "NUMERO_PEDIDO_JMS    0\n",
       "FRANQUEADO           0\n",
       "BASE_ENTREGA         0\n",
       "AGREGADO             0\n",
       "ASSINATURA           0\n",
       "VALOR_MERCADORIA     0\n",
       "CEP                  0\n",
       "ENDERECO_COMPLETO    0\n",
       "CIDADE               0\n",
       "BAIRRO               0\n",
       "DESTINATARIO         0\n",
       "HORARIO_ENTREGA      0\n",
       "CPF_CNPJ             0\n",
       "PESO_COBRAVEL        0\n",
       "dtype: int64"
      ]
     },
     "execution_count": 159,
     "metadata": {},
     "output_type": "execute_result"
    }
   ],
   "source": [
    "#Modificando o missings por \"BAIRRO INEXISTENTE'\n",
    "\n",
    "df_pacotes_entregues['BAIRRO'].fillna('BAIRRO INEXISTENTE',inplace=True)\n",
    "\n",
    "#excluindo os valores nulos \n",
    "\n",
    "df_pacotes_entregues_clear = df_pacotes_entregues.dropna(subset=['CEP'])\n",
    "\n",
    "df_pacotes_entregues_clear.isnull().sum()"
   ]
  },
  {
   "cell_type": "code",
   "execution_count": 160,
   "id": "ece73a53-ceed-4ff8-a56d-e250d63c616f",
   "metadata": {},
   "outputs": [
    {
     "data": {
      "text/plain": [
       "NUMERO_PEDIDO_JMS\n",
       "888000377323557    1\n",
       "888500757384982    1\n",
       "888500756205455    1\n",
       "888500756482317    1\n",
       "888500756489655    1\n",
       "                  ..\n",
       "888000413726095    1\n",
       "888000413743318    1\n",
       "888000413764608    1\n",
       "888000413871854    1\n",
       "888700018904195    1\n",
       "Name: count, Length: 190203, dtype: int64"
      ]
     },
     "execution_count": 160,
     "metadata": {},
     "output_type": "execute_result"
    }
   ],
   "source": [
    "#Verificando se existem pedidos duplicados\n",
    "\n",
    "df_pacotes_entregues_clear['NUMERO_PEDIDO_JMS'].value_counts()"
   ]
  },
  {
   "cell_type": "code",
   "execution_count": 161,
   "id": "986f5829-0178-447e-a302-6e74060edfd2",
   "metadata": {},
   "outputs": [
    {
     "name": "stdout",
     "output_type": "stream",
     "text": [
      "<class 'pandas.core.frame.DataFrame'>\n",
      "RangeIndex: 190203 entries, 0 to 190202\n",
      "Data columns (total 14 columns):\n",
      " #   Column             Non-Null Count   Dtype         \n",
      "---  ------             --------------   -----         \n",
      " 0   NUMERO_PEDIDO_JMS  190203 non-null  int64         \n",
      " 1   FRANQUEADO         190203 non-null  object        \n",
      " 2   BASE_ENTREGA       190203 non-null  object        \n",
      " 3   AGREGADO           190203 non-null  object        \n",
      " 4   ASSINATURA         190203 non-null  object        \n",
      " 5   VALOR_MERCADORIA   190203 non-null  float64       \n",
      " 6   CEP                190203 non-null  int64         \n",
      " 7   ENDERECO_COMPLETO  190203 non-null  object        \n",
      " 8   CIDADE             190203 non-null  object        \n",
      " 9   BAIRRO             190203 non-null  object        \n",
      " 10  DESTINATARIO       190203 non-null  object        \n",
      " 11  HORARIO_ENTREGA    190203 non-null  datetime64[ns]\n",
      " 12  CPF_CNPJ           190203 non-null  object        \n",
      " 13  PESO_COBRAVEL      190203 non-null  float64       \n",
      "dtypes: datetime64[ns](1), float64(2), int64(2), object(9)\n",
      "memory usage: 20.3+ MB\n"
     ]
    }
   ],
   "source": [
    "#Exibindos as informaçoes do dataframe\n",
    "df_pacotes_entregues_clear.info()"
   ]
  },
  {
   "cell_type": "code",
   "execution_count": 162,
   "id": "d6c64180-8ca6-4d6f-9119-4318bb284734",
   "metadata": {},
   "outputs": [],
   "source": [
    "#Exportando os dataframe para csv\n",
    "\n",
    "df_pacotes_entregues_clear.to_csv('./pacotes_entregues_01_08022024_processado.csv',encoding='utf-8', index=False)\n",
    "\n",
    "# exportando os pacotes não entregue\n",
    "\n",
    "df_pacotes_nao_entregues.to_csv('./pacotes_nao_entregues_01_08022024_processado.csv',encoding='utf-8', index=False)"
   ]
  },
  {
   "cell_type": "markdown",
   "id": "e40040ee-48ea-4157-922b-f3aa53c0063c",
   "metadata": {},
   "source": [
    "Inicio do tratamento do dataframe agregados\n"
   ]
  },
  {
   "cell_type": "code",
   "execution_count": 163,
   "id": "f3eadc34-8d75-4c01-bc48-15e16d951f57",
   "metadata": {},
   "outputs": [
    {
     "data": {
      "text/plain": [
       "(7028, 59)"
      ]
     },
     "execution_count": 163,
     "metadata": {},
     "output_type": "execute_result"
    }
   ],
   "source": [
    "#dataset agregados\n",
    "df_agregado = pd.read_csv('./base_agregados_09022024.csv',delimiter=';')\n",
    "\n",
    "#Verificando a dimensão\n",
    "df_agregado.shape"
   ]
  },
  {
   "cell_type": "code",
   "execution_count": 164,
   "id": "e2a470ce-6774-40cd-b870-b1a2b6658965",
   "metadata": {},
   "outputs": [],
   "source": [
    "#Exibindo somente as colunas selecionadas\n",
    "df_agregados_colunas = df_agregado.loc[:,['Placa','Nome da sua estação','Nome de tipo de veículo','Nome do condutor','CPF']]"
   ]
  },
  {
   "cell_type": "code",
   "execution_count": 165,
   "id": "6a6b4f93-99e3-41cc-a0c3-c7b67c9ae2d2",
   "metadata": {},
   "outputs": [],
   "source": [
    "#Renomeando os atributos\n",
    "\n",
    "df_agregados_colunas.rename(columns={'Placa':'PLACA',\n",
    "                                     'Nome da sua estação':'NOME_BASE',\n",
    "                                     'Nome de tipo de veículo':'TIPO_VEICULO',\n",
    "                                     'Nome do condutor':'AGREGADO',\n",
    "                                     'CPF':'CPF_CNPJ'},inplace=True)"
   ]
  },
  {
   "cell_type": "code",
   "execution_count": 166,
   "id": "87252a33-0044-41c1-967d-faadf33061d3",
   "metadata": {},
   "outputs": [
    {
     "data": {
      "text/plain": [
       "184"
      ]
     },
     "execution_count": 166,
     "metadata": {},
     "output_type": "execute_result"
    }
   ],
   "source": [
    "#excluíndo cpf duplicados\n",
    "\n",
    "df_agregados_colunas.duplicated(subset=['CPF_CNPJ']).sum()"
   ]
  },
  {
   "cell_type": "code",
   "execution_count": 167,
   "id": "9d267934-9adb-4768-82a0-9b9706d25a11",
   "metadata": {},
   "outputs": [],
   "source": [
    "#Armazenando os CPF duplicados e logo apos a exclusão.\n",
    "df_agregados_duplicado = df_agregados_colunas[df_agregados_colunas.duplicated(subset=['CPF_CNPJ'])]\n",
    "\n",
    "# Excluíndo as linhas duplicadas\n",
    "\n",
    "df_agregados_clean = df_agregados_colunas.drop_duplicates(subset=['CPF_CNPJ'])\n",
    "\n",
    "#Exibindo as dimensão\n"
   ]
  },
  {
   "cell_type": "code",
   "execution_count": 168,
   "id": "67f374bc-c951-45cc-9586-cfdd84e57a9c",
   "metadata": {},
   "outputs": [
    {
     "data": {
      "text/html": [
       "<div>\n",
       "<style scoped>\n",
       "    .dataframe tbody tr th:only-of-type {\n",
       "        vertical-align: middle;\n",
       "    }\n",
       "\n",
       "    .dataframe tbody tr th {\n",
       "        vertical-align: top;\n",
       "    }\n",
       "\n",
       "    .dataframe thead th {\n",
       "        text-align: right;\n",
       "    }\n",
       "</style>\n",
       "<table border=\"1\" class=\"dataframe\">\n",
       "  <thead>\n",
       "    <tr style=\"text-align: right;\">\n",
       "      <th></th>\n",
       "      <th>PLACA</th>\n",
       "      <th>NOME_BASE</th>\n",
       "      <th>TIPO_VEICULO</th>\n",
       "      <th>AGREGADO</th>\n",
       "      <th>CPF_CNPJ</th>\n",
       "    </tr>\n",
       "  </thead>\n",
       "  <tbody>\n",
       "    <tr>\n",
       "      <th>3221</th>\n",
       "      <td>QUF3H47</td>\n",
       "      <td>NaN</td>\n",
       "      <td>PASSEIO</td>\n",
       "      <td>MARJORY LOUREIRO</td>\n",
       "      <td>758909764</td>\n",
       "    </tr>\n",
       "    <tr>\n",
       "      <th>4813</th>\n",
       "      <td>KVA3662</td>\n",
       "      <td>NaN</td>\n",
       "      <td>PASSEIO</td>\n",
       "      <td>TAC CARRO - CARLOS ALBERTO NASCIMENTO DA SILVA</td>\n",
       "      <td>16829862760</td>\n",
       "    </tr>\n",
       "    <tr>\n",
       "      <th>4964</th>\n",
       "      <td>KXS4B99</td>\n",
       "      <td>NaN</td>\n",
       "      <td>FIORINO</td>\n",
       "      <td>MEI CARRO - ROMULO GONÇALVES TORRES DE SOUZA</td>\n",
       "      <td>14593194784</td>\n",
       "    </tr>\n",
       "    <tr>\n",
       "      <th>4977</th>\n",
       "      <td>LRJ0573</td>\n",
       "      <td>NaN</td>\n",
       "      <td>PASSEIO</td>\n",
       "      <td>MEI CARRO - DANIELLE MORIEL MENEZES</td>\n",
       "      <td>9003567743</td>\n",
       "    </tr>\n",
       "    <tr>\n",
       "      <th>6232</th>\n",
       "      <td>MPV1186</td>\n",
       "      <td>NaN</td>\n",
       "      <td>PASSEIO</td>\n",
       "      <td>MEI CARRO - DIONES LEMOS MOTHE</td>\n",
       "      <td>5765193757</td>\n",
       "    </tr>\n",
       "    <tr>\n",
       "      <th>6555</th>\n",
       "      <td>QUH6D81</td>\n",
       "      <td>NaN</td>\n",
       "      <td>PASSEIO</td>\n",
       "      <td>TAC CARRO - ROBERT PIRES DUPIO</td>\n",
       "      <td>16662126799</td>\n",
       "    </tr>\n",
       "    <tr>\n",
       "      <th>6781</th>\n",
       "      <td>KNY4D11</td>\n",
       "      <td>NaN</td>\n",
       "      <td>PASSEIO</td>\n",
       "      <td>MEI CARRO - RAI RANGEL CRESPO</td>\n",
       "      <td>16150365719</td>\n",
       "    </tr>\n",
       "  </tbody>\n",
       "</table>\n",
       "</div>"
      ],
      "text/plain": [
       "        PLACA NOME_BASE TIPO_VEICULO  \\\n",
       "3221  QUF3H47       NaN      PASSEIO   \n",
       "4813  KVA3662       NaN      PASSEIO   \n",
       "4964  KXS4B99       NaN      FIORINO   \n",
       "4977  LRJ0573       NaN      PASSEIO   \n",
       "6232  MPV1186       NaN      PASSEIO   \n",
       "6555  QUH6D81       NaN      PASSEIO   \n",
       "6781  KNY4D11       NaN      PASSEIO   \n",
       "\n",
       "                                            AGREGADO     CPF_CNPJ  \n",
       "3221                                MARJORY LOUREIRO    758909764  \n",
       "4813  TAC CARRO - CARLOS ALBERTO NASCIMENTO DA SILVA  16829862760  \n",
       "4964    MEI CARRO - ROMULO GONÇALVES TORRES DE SOUZA  14593194784  \n",
       "4977             MEI CARRO - DANIELLE MORIEL MENEZES   9003567743  \n",
       "6232                  MEI CARRO - DIONES LEMOS MOTHE   5765193757  \n",
       "6555                  TAC CARRO - ROBERT PIRES DUPIO  16662126799  \n",
       "6781                   MEI CARRO - RAI RANGEL CRESPO  16150365719  "
      ]
     },
     "execution_count": 168,
     "metadata": {},
     "output_type": "execute_result"
    }
   ],
   "source": [
    "#Verificando o que são os missings\n",
    "df_agregados_clean[df_agregados_clean['NOME_BASE'].isna()]"
   ]
  },
  {
   "cell_type": "code",
   "execution_count": 169,
   "id": "fd49219e-1d2d-4be1-a4ff-7c8d63f9f663",
   "metadata": {},
   "outputs": [
    {
     "data": {
      "text/plain": [
       "PLACA           0\n",
       "NOME_BASE       0\n",
       "TIPO_VEICULO    0\n",
       "AGREGADO        0\n",
       "CPF_CNPJ        0\n",
       "dtype: int64"
      ]
     },
     "execution_count": 169,
     "metadata": {},
     "output_type": "execute_result"
    }
   ],
   "source": [
    "#Modificando os missings para 'RJ' somente para ter uma base vinculada\n",
    "df_agregados_clean['NOME_BASE'].fillna('RJ',inplace=True)\n",
    "\n",
    "#Verificando se existe missings\n",
    "df_agregados_clean.isnull().sum()"
   ]
  },
  {
   "cell_type": "code",
   "execution_count": 170,
   "id": "8de56892-3f4a-401e-96a7-1b67e1867714",
   "metadata": {},
   "outputs": [
    {
     "data": {
      "text/plain": [
       "array(['PASSEIO', 'FIORINO', 'Moto', 'Utilitário', 'Furgao', 'HR-Furgão',\n",
       "       'Truck', 'Camionete', 'VUC', '3/4', 'Baú', 'VAN'], dtype=object)"
      ]
     },
     "execution_count": 170,
     "metadata": {},
     "output_type": "execute_result"
    }
   ],
   "source": [
    "#Verificando os tidos de veículos\n",
    "df_agregados_clean['TIPO_VEICULO'].unique()"
   ]
  },
  {
   "cell_type": "code",
   "execution_count": 171,
   "id": "dd76ad34-82c2-4cd1-92bc-cbe4119907db",
   "metadata": {},
   "outputs": [],
   "source": [
    "# Alterando os nomes do Veículos para ter somente CARRO e MOTO\n",
    "\n",
    "df_agregados_clean['TIPO_VEICULO'] = df_agregados_clean['TIPO_VEICULO'].replace('FIORINO','CARRO')\n",
    "\n",
    "df_agregados_clean['TIPO_VEICULO'] = df_agregados_clean['TIPO_VEICULO'].replace('PASSEIO','CARRO')\n",
    "\n",
    "df_agregados_clean['TIPO_VEICULO'] = df_agregados_clean['TIPO_VEICULO'].replace('Utilitário','CARRO')\n",
    "\n",
    "df_agregados_clean['TIPO_VEICULO'] = df_agregados_clean['TIPO_VEICULO'].replace('HR-Furgão','CARRO')\n",
    "\n",
    "df_agregados_clean['TIPO_VEICULO'] = df_agregados_clean['TIPO_VEICULO'].replace('Truck','CARRO')\n",
    "\n",
    "df_agregados_clean['TIPO_VEICULO'] = df_agregados_clean['TIPO_VEICULO'].replace('Camionete','CARRO')\n",
    "\n",
    "df_agregados_clean['TIPO_VEICULO'] = df_agregados_clean['TIPO_VEICULO'].replace('Furgao','CARRO')\n",
    "\n",
    "df_agregados_clean['TIPO_VEICULO'] = df_agregados_clean['TIPO_VEICULO'].replace('Furgao','CARRO')\n",
    "\n",
    "df_agregados_clean['TIPO_VEICULO'] = df_agregados_clean['TIPO_VEICULO'].replace('VUC','CARRO')\n",
    "\n",
    "df_agregados_clean['TIPO_VEICULO'] = df_agregados_clean['TIPO_VEICULO'].replace('3/4','CARRO')\n",
    "\n",
    "df_agregados_clean['TIPO_VEICULO'] = df_agregados_clean['TIPO_VEICULO'].replace('Baú','CARRO')\n",
    "\n",
    "df_agregados_clean['TIPO_VEICULO'] = df_agregados_clean['TIPO_VEICULO'].replace('VAN','CARRO')\n",
    "\n",
    "df_agregados_clean['TIPO_VEICULO'] = df_agregados_clean['TIPO_VEICULO'].replace('Moto','MOTO')"
   ]
  },
  {
   "cell_type": "code",
   "execution_count": 172,
   "id": "db0e05ab-8ff0-4024-b25b-e8d2e0fe68a2",
   "metadata": {},
   "outputs": [],
   "source": [
    "#Buscando os agregados que são tipo bike e estão especificados no nome.\n",
    "#.loc serve para mostrar somente o atributos especifico\n",
    "#str.contains('BIKE') -> Busca por essa palavras em uma string dentro do atributos\n",
    "#,(TIPO_VEICULO)] = 'BIKE' -> Muda as linha que está na pesquisa em um nome especificado 'BIKE'\n",
    "\n",
    "\n",
    "df_agregados_clean.loc[df_agregados_clean['AGREGADO'].str.contains('BIKE'), 'TIPO_VEICULO'] = 'BIKE'"
   ]
  },
  {
   "cell_type": "code",
   "execution_count": 173,
   "id": "877eb7c6-c6f6-4f3a-88bd-95eca9d8a44e",
   "metadata": {},
   "outputs": [
    {
     "data": {
      "text/plain": [
       "0"
      ]
     },
     "execution_count": 173,
     "metadata": {},
     "output_type": "execute_result"
    }
   ],
   "source": [
    "#Verificando se existe duplicados\n",
    "df_agregados_clean.duplicated(subset=['CPF_CNPJ']).sum()"
   ]
  },
  {
   "cell_type": "code",
   "execution_count": 174,
   "id": "8cd76e5d-e31f-440a-8ff0-a2e68f73cf18",
   "metadata": {},
   "outputs": [
    {
     "data": {
      "text/plain": [
       "(6844, 5)"
      ]
     },
     "execution_count": 174,
     "metadata": {},
     "output_type": "execute_result"
    }
   ],
   "source": [
    "#VErificando a dimensão - A quantidade de linhas e colunas.\n",
    "df_agregados_clean.shape"
   ]
  },
  {
   "cell_type": "code",
   "execution_count": 175,
   "id": "101e3e5b-20e7-443c-ba43-dc52e5ae635d",
   "metadata": {},
   "outputs": [],
   "source": [
    "df_agregados_clean.to_csv('agregados_motorista_processado.csv',encoding='utf-8',index=False)"
   ]
  },
  {
   "cell_type": "code",
   "execution_count": 176,
   "id": "1cfdcfd7-a12d-4b15-b54a-4202fdd44c18",
   "metadata": {
    "tags": []
   },
   "outputs": [],
   "source": [
    "#Transformando do tipo do atributo 'CPF_CNPJ' para string e apos realizar o join\n",
    "df_agregados_clean['CPF_CNPJ'] = df_agregados_clean['CPF_CNPJ'].astype(str)"
   ]
  },
  {
   "cell_type": "code",
   "execution_count": 177,
   "id": "cb434abf-a49c-4984-b689-ade0b40b925c",
   "metadata": {},
   "outputs": [
    {
     "data": {
      "text/plain": [
       "(190203, 18)"
      ]
     },
     "execution_count": 177,
     "metadata": {},
     "output_type": "execute_result"
    }
   ],
   "source": [
    "#Fazendo o Join  entre o dataframe df_pacotes X df_agregados\n",
    "\n",
    "df_pacotes_agregados = pd.merge(df_pacotes_entregues_clear,df_agregados_clean,on=['CPF_CNPJ'],how='left')\n",
    "                                \n",
    "df_pacotes_agregados.shape"
   ]
  },
  {
   "cell_type": "code",
   "execution_count": 178,
   "id": "ebf19a9b-352d-4ac3-8ec9-cadff86d49b0",
   "metadata": {},
   "outputs": [],
   "source": [
    "#Excluindo a colunas que replicou\n",
    "\n",
    "df_pacotes_agregados.drop(['AGREGADO_y'],axis=1,inplace=True)\n",
    "\n",
    "#Modificando o nome da colunas\n",
    "\n",
    "df_pacotes_agregados.rename(columns={'AGREGADO_x':'AGREGADO'},inplace=True)\n"
   ]
  },
  {
   "cell_type": "code",
   "execution_count": 179,
   "id": "81c87161-4876-4ada-a8c6-893402736cf9",
   "metadata": {},
   "outputs": [],
   "source": [
    "#Importando o dataset que contém os valores\n",
    "df_valores = pd.read_csv('./precificacao_080224.csv', delimiter=',')"
   ]
  },
  {
   "cell_type": "code",
   "execution_count": 180,
   "id": "2c1f2139-d2a3-4521-a7b6-680e199ce663",
   "metadata": {},
   "outputs": [],
   "source": [
    "#Realizando um Join com o dataframe de valores\n",
    "\n",
    "df_pacotes_full = pd.merge(df_pacotes_agregados,df_valores,on=['CIDADE','BAIRRO','TIPO_VEICULO'],how='left')\n"
   ]
  },
  {
   "cell_type": "code",
   "execution_count": 181,
   "id": "15c29d28-7133-4115-b6d4-3486ae686559",
   "metadata": {},
   "outputs": [],
   "source": [
    "#Filtrando os pacotes nulos\n",
    "\n",
    "df_nulos = df_pacotes_full[df_pacotes_full['VALOR'].isna()]\n"
   ]
  },
  {
   "cell_type": "code",
   "execution_count": 182,
   "id": "c460bc00-c60e-4640-883b-9b71547f79ba",
   "metadata": {},
   "outputs": [],
   "source": [
    "#Excluíndo os atributos para realizar um novo join\n",
    "\n",
    "df_nulos.drop(['VALOR','NOME_BASE','PLACA'],axis=1,inplace=True)\n"
   ]
  },
  {
   "cell_type": "code",
   "execution_count": 183,
   "id": "079f923d-5911-4afe-be8c-82fac862a103",
   "metadata": {},
   "outputs": [],
   "source": [
    "#Realizando o JOin com os pedidos que não possuem bairros cadastrados\n",
    "\n",
    "df_nulos_proc = pd.merge(df_nulos,df_valores,on=['CIDADE','TIPO_VEICULO'],how='left')\n",
    "\n",
    "#Excluí os duplicados\n",
    "\n",
    "df_nulos_proc.drop_duplicates(subset=['NUMERO_PEDIDO_JMS'],inplace=True)\n",
    "\n"
   ]
  },
  {
   "cell_type": "code",
   "execution_count": 184,
   "id": "e2959fc8-412b-4805-aeaf-657e7992c796",
   "metadata": {},
   "outputs": [],
   "source": [
    "#Excluíndo o atributo duplicado\n",
    "\n",
    "df_nulos_proc.drop(['BAIRRO_y'],axis=1,inplace=True)\n",
    "\n",
    "#modificando o nome do atributo\n",
    "\n",
    "df_nulos_proc.rename(columns={'BAIRRO_x':'BAIRRO'},inplace=True)\n"
   ]
  },
  {
   "cell_type": "code",
   "execution_count": 185,
   "id": "66a81fbc-a13f-4ce0-ab46-d77430351a6f",
   "metadata": {},
   "outputs": [],
   "source": [
    "#Excluído valores nulos do atributo 'VALOR'\n",
    "df_pacotes_full.dropna(subset=['VALOR'],inplace=True)\n"
   ]
  },
  {
   "cell_type": "code",
   "execution_count": 186,
   "id": "566c8dbb-76c2-4253-bcf9-e819ee909f69",
   "metadata": {},
   "outputs": [],
   "source": [
    "#excluído os atributos\n",
    "\n",
    "df_pacotes_full.drop(['PLACA','BASE_ENTREGA_y','NOME_BASE'],axis=1,inplace=True)\n",
    "\n",
    "#Renomear o atributo BASE_ENTREGA_X\n",
    "\n",
    "df_pacotes_full.rename(columns={'BASE_ENTREGA_x':'BASE_ENTREGA'},inplace=True)\n"
   ]
  },
  {
   "cell_type": "code",
   "execution_count": 187,
   "id": "7ce95456-c209-47ed-8f75-83580a4726cf",
   "metadata": {},
   "outputs": [],
   "source": [
    "#Concatenando\n",
    "\n",
    "df_fechamento_full = pd.concat([df_pacotes_full,df_nulos_proc])\n"
   ]
  },
  {
   "cell_type": "code",
   "execution_count": 188,
   "id": "f23fdf34-b291-47fd-959c-cd5200c97ac5",
   "metadata": {},
   "outputs": [
    {
     "data": {
      "text/plain": [
       "NUMERO_PEDIDO_JMS\n",
       "888030031141529    11\n",
       "888030025232442    11\n",
       "888030034004899    11\n",
       "888030029252564    11\n",
       "888030031294161    11\n",
       "                   ..\n",
       "888500755039522     1\n",
       "888500755140355     1\n",
       "888500755252982     1\n",
       "888500755417132     1\n",
       "888700018015849     1\n",
       "Name: count, Length: 190203, dtype: int64"
      ]
     },
     "execution_count": 188,
     "metadata": {},
     "output_type": "execute_result"
    }
   ],
   "source": [
    "#Verificacao de mnulos\n",
    "\n",
    "df_fechamento_full['NUMERO_PEDIDO_JMS'].value_counts()"
   ]
  },
  {
   "cell_type": "code",
   "execution_count": 189,
   "id": "3749f442-c410-429d-9e75-12f1e1c4651a",
   "metadata": {},
   "outputs": [],
   "source": [
    "#Excluíndo os duplicados\n",
    "\n",
    "df_fechamento_full.drop_duplicates(subset=['NUMERO_PEDIDO_JMS'],inplace=True)\n"
   ]
  },
  {
   "cell_type": "code",
   "execution_count": 190,
   "id": "c8ce2d00-706e-480b-b06d-28f59071153f",
   "metadata": {},
   "outputs": [],
   "source": [
    "#Excluíndo atributos desnecessários.\n",
    "\n",
    "df_fechamento_full.drop(['BASE_ENTREGA_x','BASE_ENTREGA_y'],axis=1,inplace=True)\n"
   ]
  },
  {
   "cell_type": "code",
   "execution_count": 191,
   "id": "a2d7bfb9-3440-4f0b-a441-5876e5195cbf",
   "metadata": {
    "tags": []
   },
   "outputs": [
    {
     "data": {
      "text/plain": [
       "(190203, 16)"
      ]
     },
     "execution_count": 191,
     "metadata": {},
     "output_type": "execute_result"
    }
   ],
   "source": [
    "df_fechamento_full.shape"
   ]
  },
  {
   "cell_type": "code",
   "execution_count": 192,
   "id": "01a5b9d3-bf6c-4de4-863a-2c0b68d045ce",
   "metadata": {
    "tags": []
   },
   "outputs": [
    {
     "ename": "OSError",
     "evalue": "Cannot save file into a non-existent directory: '\\Users\\arthur.lopes\\Desktop\\Projeto_ALS\\relatorio_final'",
     "output_type": "error",
     "traceback": [
      "\u001b[1;31m---------------------------------------------------------------------------\u001b[0m",
      "\u001b[1;31mOSError\u001b[0m                                   Traceback (most recent call last)",
      "Cell \u001b[1;32mIn[192], line 3\u001b[0m\n\u001b[0;32m      1\u001b[0m \u001b[38;5;66;03m#Exportando para csv\u001b[39;00m\n\u001b[1;32m----> 3\u001b[0m df_fechamento_full\u001b[38;5;241m.\u001b[39mto_csv(\u001b[38;5;124m'\u001b[39m\u001b[38;5;124m/Users/arthur.lopes/Desktop/Projeto_ALS/relatorio_final/pacotes_entregues01_08022024_proc.csv\u001b[39m\u001b[38;5;124m'\u001b[39m,encoding\u001b[38;5;241m=\u001b[39m\u001b[38;5;124m'\u001b[39m\u001b[38;5;124mutf-8\u001b[39m\u001b[38;5;124m'\u001b[39m,index\u001b[38;5;241m=\u001b[39m\u001b[38;5;28;01mFalse\u001b[39;00m)\n",
      "File \u001b[1;32m~\\anaconda3\\Lib\\site-packages\\pandas\\core\\generic.py:3772\u001b[0m, in \u001b[0;36mNDFrame.to_csv\u001b[1;34m(self, path_or_buf, sep, na_rep, float_format, columns, header, index, index_label, mode, encoding, compression, quoting, quotechar, lineterminator, chunksize, date_format, doublequote, escapechar, decimal, errors, storage_options)\u001b[0m\n\u001b[0;32m   3761\u001b[0m df \u001b[38;5;241m=\u001b[39m \u001b[38;5;28mself\u001b[39m \u001b[38;5;28;01mif\u001b[39;00m \u001b[38;5;28misinstance\u001b[39m(\u001b[38;5;28mself\u001b[39m, ABCDataFrame) \u001b[38;5;28;01melse\u001b[39;00m \u001b[38;5;28mself\u001b[39m\u001b[38;5;241m.\u001b[39mto_frame()\n\u001b[0;32m   3763\u001b[0m formatter \u001b[38;5;241m=\u001b[39m DataFrameFormatter(\n\u001b[0;32m   3764\u001b[0m     frame\u001b[38;5;241m=\u001b[39mdf,\n\u001b[0;32m   3765\u001b[0m     header\u001b[38;5;241m=\u001b[39mheader,\n\u001b[1;32m   (...)\u001b[0m\n\u001b[0;32m   3769\u001b[0m     decimal\u001b[38;5;241m=\u001b[39mdecimal,\n\u001b[0;32m   3770\u001b[0m )\n\u001b[1;32m-> 3772\u001b[0m \u001b[38;5;28;01mreturn\u001b[39;00m DataFrameRenderer(formatter)\u001b[38;5;241m.\u001b[39mto_csv(\n\u001b[0;32m   3773\u001b[0m     path_or_buf,\n\u001b[0;32m   3774\u001b[0m     lineterminator\u001b[38;5;241m=\u001b[39mlineterminator,\n\u001b[0;32m   3775\u001b[0m     sep\u001b[38;5;241m=\u001b[39msep,\n\u001b[0;32m   3776\u001b[0m     encoding\u001b[38;5;241m=\u001b[39mencoding,\n\u001b[0;32m   3777\u001b[0m     errors\u001b[38;5;241m=\u001b[39merrors,\n\u001b[0;32m   3778\u001b[0m     compression\u001b[38;5;241m=\u001b[39mcompression,\n\u001b[0;32m   3779\u001b[0m     quoting\u001b[38;5;241m=\u001b[39mquoting,\n\u001b[0;32m   3780\u001b[0m     columns\u001b[38;5;241m=\u001b[39mcolumns,\n\u001b[0;32m   3781\u001b[0m     index_label\u001b[38;5;241m=\u001b[39mindex_label,\n\u001b[0;32m   3782\u001b[0m     mode\u001b[38;5;241m=\u001b[39mmode,\n\u001b[0;32m   3783\u001b[0m     chunksize\u001b[38;5;241m=\u001b[39mchunksize,\n\u001b[0;32m   3784\u001b[0m     quotechar\u001b[38;5;241m=\u001b[39mquotechar,\n\u001b[0;32m   3785\u001b[0m     date_format\u001b[38;5;241m=\u001b[39mdate_format,\n\u001b[0;32m   3786\u001b[0m     doublequote\u001b[38;5;241m=\u001b[39mdoublequote,\n\u001b[0;32m   3787\u001b[0m     escapechar\u001b[38;5;241m=\u001b[39mescapechar,\n\u001b[0;32m   3788\u001b[0m     storage_options\u001b[38;5;241m=\u001b[39mstorage_options,\n\u001b[0;32m   3789\u001b[0m )\n",
      "File \u001b[1;32m~\\anaconda3\\Lib\\site-packages\\pandas\\io\\formats\\format.py:1186\u001b[0m, in \u001b[0;36mDataFrameRenderer.to_csv\u001b[1;34m(self, path_or_buf, encoding, sep, columns, index_label, mode, compression, quoting, quotechar, lineterminator, chunksize, date_format, doublequote, escapechar, errors, storage_options)\u001b[0m\n\u001b[0;32m   1165\u001b[0m     created_buffer \u001b[38;5;241m=\u001b[39m \u001b[38;5;28;01mFalse\u001b[39;00m\n\u001b[0;32m   1167\u001b[0m csv_formatter \u001b[38;5;241m=\u001b[39m CSVFormatter(\n\u001b[0;32m   1168\u001b[0m     path_or_buf\u001b[38;5;241m=\u001b[39mpath_or_buf,\n\u001b[0;32m   1169\u001b[0m     lineterminator\u001b[38;5;241m=\u001b[39mlineterminator,\n\u001b[1;32m   (...)\u001b[0m\n\u001b[0;32m   1184\u001b[0m     formatter\u001b[38;5;241m=\u001b[39m\u001b[38;5;28mself\u001b[39m\u001b[38;5;241m.\u001b[39mfmt,\n\u001b[0;32m   1185\u001b[0m )\n\u001b[1;32m-> 1186\u001b[0m csv_formatter\u001b[38;5;241m.\u001b[39msave()\n\u001b[0;32m   1188\u001b[0m \u001b[38;5;28;01mif\u001b[39;00m created_buffer:\n\u001b[0;32m   1189\u001b[0m     \u001b[38;5;28;01massert\u001b[39;00m \u001b[38;5;28misinstance\u001b[39m(path_or_buf, StringIO)\n",
      "File \u001b[1;32m~\\anaconda3\\Lib\\site-packages\\pandas\\io\\formats\\csvs.py:240\u001b[0m, in \u001b[0;36mCSVFormatter.save\u001b[1;34m(self)\u001b[0m\n\u001b[0;32m    236\u001b[0m \u001b[38;5;250m\u001b[39m\u001b[38;5;124;03m\"\"\"\u001b[39;00m\n\u001b[0;32m    237\u001b[0m \u001b[38;5;124;03mCreate the writer & save.\u001b[39;00m\n\u001b[0;32m    238\u001b[0m \u001b[38;5;124;03m\"\"\"\u001b[39;00m\n\u001b[0;32m    239\u001b[0m \u001b[38;5;66;03m# apply compression and byte/text conversion\u001b[39;00m\n\u001b[1;32m--> 240\u001b[0m \u001b[38;5;28;01mwith\u001b[39;00m get_handle(\n\u001b[0;32m    241\u001b[0m     \u001b[38;5;28mself\u001b[39m\u001b[38;5;241m.\u001b[39mfilepath_or_buffer,\n\u001b[0;32m    242\u001b[0m     \u001b[38;5;28mself\u001b[39m\u001b[38;5;241m.\u001b[39mmode,\n\u001b[0;32m    243\u001b[0m     encoding\u001b[38;5;241m=\u001b[39m\u001b[38;5;28mself\u001b[39m\u001b[38;5;241m.\u001b[39mencoding,\n\u001b[0;32m    244\u001b[0m     errors\u001b[38;5;241m=\u001b[39m\u001b[38;5;28mself\u001b[39m\u001b[38;5;241m.\u001b[39merrors,\n\u001b[0;32m    245\u001b[0m     compression\u001b[38;5;241m=\u001b[39m\u001b[38;5;28mself\u001b[39m\u001b[38;5;241m.\u001b[39mcompression,\n\u001b[0;32m    246\u001b[0m     storage_options\u001b[38;5;241m=\u001b[39m\u001b[38;5;28mself\u001b[39m\u001b[38;5;241m.\u001b[39mstorage_options,\n\u001b[0;32m    247\u001b[0m ) \u001b[38;5;28;01mas\u001b[39;00m handles:\n\u001b[0;32m    248\u001b[0m     \u001b[38;5;66;03m# Note: self.encoding is irrelevant here\u001b[39;00m\n\u001b[0;32m    249\u001b[0m     \u001b[38;5;28mself\u001b[39m\u001b[38;5;241m.\u001b[39mwriter \u001b[38;5;241m=\u001b[39m csvlib\u001b[38;5;241m.\u001b[39mwriter(\n\u001b[0;32m    250\u001b[0m         handles\u001b[38;5;241m.\u001b[39mhandle,\n\u001b[0;32m    251\u001b[0m         lineterminator\u001b[38;5;241m=\u001b[39m\u001b[38;5;28mself\u001b[39m\u001b[38;5;241m.\u001b[39mlineterminator,\n\u001b[1;32m   (...)\u001b[0m\n\u001b[0;32m    256\u001b[0m         quotechar\u001b[38;5;241m=\u001b[39m\u001b[38;5;28mself\u001b[39m\u001b[38;5;241m.\u001b[39mquotechar,\n\u001b[0;32m    257\u001b[0m     )\n\u001b[0;32m    259\u001b[0m     \u001b[38;5;28mself\u001b[39m\u001b[38;5;241m.\u001b[39m_save()\n",
      "File \u001b[1;32m~\\anaconda3\\Lib\\site-packages\\pandas\\io\\common.py:737\u001b[0m, in \u001b[0;36mget_handle\u001b[1;34m(path_or_buf, mode, encoding, compression, memory_map, is_text, errors, storage_options)\u001b[0m\n\u001b[0;32m    735\u001b[0m \u001b[38;5;66;03m# Only for write methods\u001b[39;00m\n\u001b[0;32m    736\u001b[0m \u001b[38;5;28;01mif\u001b[39;00m \u001b[38;5;124m\"\u001b[39m\u001b[38;5;124mr\u001b[39m\u001b[38;5;124m\"\u001b[39m \u001b[38;5;129;01mnot\u001b[39;00m \u001b[38;5;129;01min\u001b[39;00m mode \u001b[38;5;129;01mand\u001b[39;00m is_path:\n\u001b[1;32m--> 737\u001b[0m     check_parent_directory(\u001b[38;5;28mstr\u001b[39m(handle))\n\u001b[0;32m    739\u001b[0m \u001b[38;5;28;01mif\u001b[39;00m compression:\n\u001b[0;32m    740\u001b[0m     \u001b[38;5;28;01mif\u001b[39;00m compression \u001b[38;5;241m!=\u001b[39m \u001b[38;5;124m\"\u001b[39m\u001b[38;5;124mzstd\u001b[39m\u001b[38;5;124m\"\u001b[39m:\n\u001b[0;32m    741\u001b[0m         \u001b[38;5;66;03m# compression libraries do not like an explicit text-mode\u001b[39;00m\n",
      "File \u001b[1;32m~\\anaconda3\\Lib\\site-packages\\pandas\\io\\common.py:600\u001b[0m, in \u001b[0;36mcheck_parent_directory\u001b[1;34m(path)\u001b[0m\n\u001b[0;32m    598\u001b[0m parent \u001b[38;5;241m=\u001b[39m Path(path)\u001b[38;5;241m.\u001b[39mparent\n\u001b[0;32m    599\u001b[0m \u001b[38;5;28;01mif\u001b[39;00m \u001b[38;5;129;01mnot\u001b[39;00m parent\u001b[38;5;241m.\u001b[39mis_dir():\n\u001b[1;32m--> 600\u001b[0m     \u001b[38;5;28;01mraise\u001b[39;00m \u001b[38;5;167;01mOSError\u001b[39;00m(\u001b[38;5;124mrf\u001b[39m\u001b[38;5;124m\"\u001b[39m\u001b[38;5;124mCannot save file into a non-existent directory: \u001b[39m\u001b[38;5;124m'\u001b[39m\u001b[38;5;132;01m{\u001b[39;00mparent\u001b[38;5;132;01m}\u001b[39;00m\u001b[38;5;124m'\u001b[39m\u001b[38;5;124m\"\u001b[39m)\n",
      "\u001b[1;31mOSError\u001b[0m: Cannot save file into a non-existent directory: '\\Users\\arthur.lopes\\Desktop\\Projeto_ALS\\relatorio_final'"
     ]
    }
   ],
   "source": [
    "#Exportando para csv\n",
    "\n",
    "df_fechamento_full.to_csv('/Users/arthur.lopes/Desktop/Projeto_ALS/relatorio_final/pacotes_entregues01_08022024_proc.csv',encoding='utf-8',index=False)"
   ]
  }
 ],
 "metadata": {
  "kernelspec": {
   "display_name": "Python 3 (ipykernel)",
   "language": "python",
   "name": "python3"
  },
  "language_info": {
   "codemirror_mode": {
    "name": "ipython",
    "version": 3
   },
   "file_extension": ".py",
   "mimetype": "text/x-python",
   "name": "python",
   "nbconvert_exporter": "python",
   "pygments_lexer": "ipython3",
   "version": "3.11.5"
  }
 },
 "nbformat": 4,
 "nbformat_minor": 5
}
