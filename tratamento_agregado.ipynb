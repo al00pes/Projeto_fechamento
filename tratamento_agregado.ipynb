{
 "cells": [
  {
   "cell_type": "code",
   "execution_count": 129,
   "id": "9558e56f-e6f8-417b-bc8b-77b563b96240",
   "metadata": {},
   "outputs": [],
   "source": [
    "import warnings\n",
    "warnings.filterwarnings('ignore')\n",
    "\n",
    "import pandas as pd\n",
    "import re"
   ]
  },
  {
   "cell_type": "code",
   "execution_count": 130,
   "id": "f710db18-f868-4416-8acc-746f734122be",
   "metadata": {},
   "outputs": [
    {
     "data": {
      "text/html": [
       "<div>\n",
       "<style scoped>\n",
       "    .dataframe tbody tr th:only-of-type {\n",
       "        vertical-align: middle;\n",
       "    }\n",
       "\n",
       "    .dataframe tbody tr th {\n",
       "        vertical-align: top;\n",
       "    }\n",
       "\n",
       "    .dataframe thead th {\n",
       "        text-align: right;\n",
       "    }\n",
       "</style>\n",
       "<table border=\"1\" class=\"dataframe\">\n",
       "  <thead>\n",
       "    <tr style=\"text-align: right;\">\n",
       "      <th></th>\n",
       "      <th>Placa</th>\n",
       "      <th>Código de atribuição do veículo</th>\n",
       "      <th>Propriedade de veículo</th>\n",
       "      <th>Nome completo do transportador</th>\n",
       "      <th>Tipo de transportador</th>\n",
       "      <th>Número da sua estação</th>\n",
       "      <th>Nome da sua estação</th>\n",
       "      <th>Perfil securitário veículo</th>\n",
       "      <th>Período de validade  - perfil securitário veículo</th>\n",
       "      <th>Nome de tipo de veículo</th>\n",
       "      <th>...</th>\n",
       "      <th>Data de validade de inspeção anual da carta de condução</th>\n",
       "      <th>Seguro comercial expirou</th>\n",
       "      <th>Data de vencimento do seguro de carga</th>\n",
       "      <th>Data de expiração de  seguro obrigatório para acidentes de trânsito</th>\n",
       "      <th>Criador</th>\n",
       "      <th>Tempo de criação</th>\n",
       "      <th>Atualizador</th>\n",
       "      <th>Tempo de atualização</th>\n",
       "      <th>Nome do condutor</th>\n",
       "      <th>CPF</th>\n",
       "    </tr>\n",
       "  </thead>\n",
       "  <tbody>\n",
       "    <tr>\n",
       "      <th>0</th>\n",
       "      <td>KXV9G53</td>\n",
       "      <td>3</td>\n",
       "      <td>Veículo de logística</td>\n",
       "      <td>NaN</td>\n",
       "      <td>NaN</td>\n",
       "      <td>621101</td>\n",
       "      <td>RIO 01</td>\n",
       "      <td>无效/Invalido</td>\n",
       "      <td>2023-02-20 11:06:41</td>\n",
       "      <td>FIORINO</td>\n",
       "      <td>...</td>\n",
       "      <td>2024-09-15</td>\n",
       "      <td>2024-09-30</td>\n",
       "      <td>NaN</td>\n",
       "      <td>2024-11-28</td>\n",
       "      <td>SYLVIO PERES LUIZ</td>\n",
       "      <td>2022-09-15 18:04:48</td>\n",
       "      <td>SYLVIO PERES LUIZ</td>\n",
       "      <td>2022-09-15 18:04:48</td>\n",
       "      <td>Lucas Aguiar de Castro</td>\n",
       "      <td>6282445760</td>\n",
       "    </tr>\n",
       "    <tr>\n",
       "      <th>1</th>\n",
       "      <td>RJV3B38</td>\n",
       "      <td>1</td>\n",
       "      <td>carro autônomo</td>\n",
       "      <td>SPEED RABBIT EXPRESS</td>\n",
       "      <td>Permanent rent</td>\n",
       "      <td>330000</td>\n",
       "      <td>REGIONAL SPONSOR RJ</td>\n",
       "      <td>有效/Valido</td>\n",
       "      <td>2099-01-01 00:00:00</td>\n",
       "      <td>Moto</td>\n",
       "      <td>...</td>\n",
       "      <td>2023-09-30</td>\n",
       "      <td>2023-09-30</td>\n",
       "      <td>NaN</td>\n",
       "      <td>2023-09-30</td>\n",
       "      <td>VINICIUS DE SOUZA CUSTODIO</td>\n",
       "      <td>2022-09-15 18:18:12</td>\n",
       "      <td>VINICIUS DE SOUZA CUSTODIO</td>\n",
       "      <td>2022-09-15 18:18:12</td>\n",
       "      <td>ERNANI NASCIMENTO DE LIMA</td>\n",
       "      <td>17165926747</td>\n",
       "    </tr>\n",
       "    <tr>\n",
       "      <th>2</th>\n",
       "      <td>Ahs6441</td>\n",
       "      <td>3</td>\n",
       "      <td>Veículo de logística</td>\n",
       "      <td>NaN</td>\n",
       "      <td>NaN</td>\n",
       "      <td>621101</td>\n",
       "      <td>RIO 01</td>\n",
       "      <td>有效/Valido</td>\n",
       "      <td>2099-01-01 00:00:00</td>\n",
       "      <td>PASSEIO</td>\n",
       "      <td>...</td>\n",
       "      <td>2024-11-30</td>\n",
       "      <td>2024-09-30</td>\n",
       "      <td>NaN</td>\n",
       "      <td>2024-09-28</td>\n",
       "      <td>MARIANA ANDRADE VENANCIO</td>\n",
       "      <td>2022-09-15 19:17:33</td>\n",
       "      <td>MARIANA ANDRADE VENANCIO</td>\n",
       "      <td>2022-09-15 19:17:33</td>\n",
       "      <td>Luciano Vagner Da Costa</td>\n",
       "      <td>11466980621</td>\n",
       "    </tr>\n",
       "  </tbody>\n",
       "</table>\n",
       "<p>3 rows × 59 columns</p>\n",
       "</div>"
      ],
      "text/plain": [
       "     Placa  Código de atribuição do veículo Propriedade de veículo  \\\n",
       "0  KXV9G53                                3   Veículo de logística   \n",
       "1  RJV3B38                                1         carro autônomo   \n",
       "2  Ahs6441                                3   Veículo de logística   \n",
       "\n",
       "  Nome completo do transportador Tipo de transportador  Número da sua estação  \\\n",
       "0                            NaN                   NaN                 621101   \n",
       "1           SPEED RABBIT EXPRESS        Permanent rent                 330000   \n",
       "2                            NaN                   NaN                 621101   \n",
       "\n",
       "   Nome da sua estação Perfil securitário veículo  \\\n",
       "0               RIO 01                无效/Invalido   \n",
       "1  REGIONAL SPONSOR RJ                  有效/Valido   \n",
       "2               RIO 01                  有效/Valido   \n",
       "\n",
       "  Período de validade  - perfil securitário veículo Nome de tipo de veículo  \\\n",
       "0                               2023-02-20 11:06:41                 FIORINO   \n",
       "1                               2099-01-01 00:00:00                    Moto   \n",
       "2                               2099-01-01 00:00:00                 PASSEIO   \n",
       "\n",
       "   ... Data de validade de inspeção anual da carta de condução  \\\n",
       "0  ...                                         2024-09-15        \n",
       "1  ...                                         2023-09-30        \n",
       "2  ...                                         2024-11-30        \n",
       "\n",
       "  Seguro comercial expirou Data de vencimento do seguro de carga  \\\n",
       "0               2024-09-30                                   NaN   \n",
       "1               2023-09-30                                   NaN   \n",
       "2               2024-09-30                                   NaN   \n",
       "\n",
       "  Data de expiração de  seguro obrigatório para acidentes de trânsito  \\\n",
       "0                                         2024-11-28                    \n",
       "1                                         2023-09-30                    \n",
       "2                                         2024-09-28                    \n",
       "\n",
       "                      Criador     Tempo de criação  \\\n",
       "0           SYLVIO PERES LUIZ  2022-09-15 18:04:48   \n",
       "1  VINICIUS DE SOUZA CUSTODIO  2022-09-15 18:18:12   \n",
       "2    MARIANA ANDRADE VENANCIO  2022-09-15 19:17:33   \n",
       "\n",
       "                  Atualizador  Tempo de atualização  \\\n",
       "0           SYLVIO PERES LUIZ   2022-09-15 18:04:48   \n",
       "1  VINICIUS DE SOUZA CUSTODIO   2022-09-15 18:18:12   \n",
       "2    MARIANA ANDRADE VENANCIO   2022-09-15 19:17:33   \n",
       "\n",
       "            Nome do condutor          CPF  \n",
       "0     Lucas Aguiar de Castro   6282445760  \n",
       "1  ERNANI NASCIMENTO DE LIMA  17165926747  \n",
       "2    Luciano Vagner Da Costa  11466980621  \n",
       "\n",
       "[3 rows x 59 columns]"
      ]
     },
     "execution_count": 130,
     "metadata": {},
     "output_type": "execute_result"
    }
   ],
   "source": [
    "#importando dataset\n",
    "\n",
    "df_agregado = pd.read_csv('./base_agregado.csv',delimiter=';')\n",
    "\n",
    "#Exibi o dataset\n",
    "\n",
    "df_agregado.head(3)                        \n"
   ]
  },
  {
   "cell_type": "code",
   "execution_count": 131,
   "id": "16a702fc-f0d3-4234-b530-627f1a0fae95",
   "metadata": {},
   "outputs": [
    {
     "name": "stdout",
     "output_type": "stream",
     "text": [
      "<class 'pandas.core.frame.DataFrame'>\n",
      "RangeIndex: 6849 entries, 0 to 6848\n",
      "Data columns (total 59 columns):\n",
      " #   Column                                                               Non-Null Count  Dtype  \n",
      "---  ------                                                               --------------  -----  \n",
      " 0   Placa                                                                6849 non-null   object \n",
      " 1   Código de atribuição do veículo                                      6849 non-null   int64  \n",
      " 2   Propriedade de veículo                                               1983 non-null   object \n",
      " 3   Nome completo do transportador                                       1201 non-null   object \n",
      " 4   Tipo de transportador                                                6376 non-null   object \n",
      " 5   Número da sua estação                                                6849 non-null   int64  \n",
      " 6   Nome da sua estação                                                  6842 non-null   object \n",
      " 7   Perfil securitário veículo                                           6849 non-null   object \n",
      " 8   Período de validade  - perfil securitário veículo                    6849 non-null   object \n",
      " 9   Nome de tipo de veículo                                              6849 non-null   object \n",
      " 10  Nome de tipo de corpo                                                1835 non-null   object \n",
      " 11  Chassi No.                                                           6849 non-null   object \n",
      " 12  Motor No.                                                            28 non-null     object \n",
      " 13  Nome de tipo de veículo.1                                            6849 non-null   object \n",
      " 14  Longo (m)                                                            6371 non-null   float64\n",
      " 15  Largura (m)                                                          69 non-null     float64\n",
      " 16  Altura (m)                                                           69 non-null     float64\n",
      " 17  Comprimento da galeria externa (m)                                   2 non-null      float64\n",
      " 18  Largura da galeria externa (m)                                       2 non-null      float64\n",
      " 19  Altura da galeria externa (m)                                        2 non-null      float64\n",
      " 20  Tara do veículo (KG)                                                 6849 non-null   object \n",
      " 21  Capacidade (KG)                                                      3214 non-null   object \n",
      " 22  Volume de carga (m³)                                                 4989 non-null   float64\n",
      " 23  Número aprovados                                                     3203 non-null   float64\n",
      " 24  Massa total de quase tração (T)                                      0 non-null      float64\n",
      " 25  Número de pneus                                                      6849 non-null   int64  \n",
      " 26  Número de eixos do veículo                                           1885 non-null   float64\n",
      " 27  Origem de veículo                                                    1763 non-null   object \n",
      " 28  Marca do veículo                                                     6849 non-null   object \n",
      " 29  Padrão de escape                                                     6849 non-null   object \n",
      " 30  Número de portas de veículo                                          42 non-null     float64\n",
      " 31  Início de contrato                                                   1883 non-null   object \n",
      " 32  Fim de contrato                                                      1885 non-null   object \n",
      " 33  Estado online                                                        6849 non-null   object \n",
      " 34  Nome do tipo de combustível                                          308 non-null    object \n",
      " 35  Grau de combustível                                                  3 non-null      float64\n",
      " 36  Modelo do veículo                                                    492 non-null    object \n",
      " 37  Tipo de trailer                                                      0 non-null      float64\n",
      " 38  Modelo de pino de tração de sela                                     0 non-null      float64\n",
      " 39  Tipo de sela                                                         0 non-null      float64\n",
      " 40  Conetor de tubo de ar                                                75 non-null     object \n",
      " 41  Marca do veículo.1                                                   2 non-null      object \n",
      " 42  Suspensão do contrato                                                112 non-null    object \n",
      " 43  Se deve parar de funcionar                                           6849 non-null   object \n",
      " 44  Com ou sem modificação                                               6849 non-null   object \n",
      " 45  Data de emissão                                                      1283 non-null   object \n",
      " 46  Título da carta de condução                                          74 non-null     object \n",
      " 47  Telefone do condutor                                                 140 non-null    float64\n",
      " 48  Data de expiração da insepçaõ anual da licença                       1270 non-null   object \n",
      " 49  Data de validade de inspeção anual da carta de condução              1258 non-null   object \n",
      " 50  Seguro comercial expirou                                             1250 non-null   object \n",
      " 51  Data de vencimento do seguro de carga                                430 non-null    object \n",
      " 52  Data de expiração de  seguro obrigatório para acidentes de trânsito  1256 non-null   object \n",
      " 53  Criador                                                              6849 non-null   object \n",
      " 54  Tempo de criação                                                     6849 non-null   object \n",
      " 55  Atualizador                                                          6849 non-null   object \n",
      " 56  Tempo de atualização                                                 6849 non-null   object \n",
      " 57  Nome do condutor                                                     6849 non-null   object \n",
      " 58  CPF                                                                  6849 non-null   int64  \n",
      "dtypes: float64(16), int64(4), object(39)\n",
      "memory usage: 3.1+ MB\n"
     ]
    }
   ],
   "source": [
    "#Verificando as colunas existente\n",
    "\n",
    "df_agregado.info()"
   ]
  },
  {
   "cell_type": "code",
   "execution_count": 132,
   "id": "84b60e58-2cda-4276-89eb-d715d547def8",
   "metadata": {},
   "outputs": [],
   "source": [
    "#Exibindo somente as colunas selecionadas\n",
    "df_agregados_colunas = df_agregado.loc[:,['Placa','Nome da sua estação','Nome de tipo de veículo','Nome do condutor','CPF']]"
   ]
  },
  {
   "cell_type": "code",
   "execution_count": 133,
   "id": "ad20b740-60d0-4969-8c87-240dbfebe0de",
   "metadata": {},
   "outputs": [],
   "source": [
    "#Renomeando os atributos\n",
    "\n",
    "df_agregados_colunas.rename(columns={'Placa':'PLACA',\n",
    "                                     'Nome da sua estação':'NOME_BASE',\n",
    "                                     'Nome de tipo de veículo':'TIPO_VEICULO',\n",
    "                                     'Nome do condutor':'AGREGADO',\n",
    "                                     'CPF':'CPF_CNPJ'},inplace=True)"
   ]
  },
  {
   "cell_type": "code",
   "execution_count": 134,
   "id": "289a2a2b-3ae2-4dd0-b7f7-900b6e3292da",
   "metadata": {},
   "outputs": [
    {
     "data": {
      "text/plain": [
       "(6849, 5)"
      ]
     },
     "execution_count": 134,
     "metadata": {},
     "output_type": "execute_result"
    }
   ],
   "source": [
    "#Verificando a dimensão\n",
    "df_agregados_colunas.shape"
   ]
  },
  {
   "cell_type": "code",
   "execution_count": 135,
   "id": "ff638e1f-85a9-4b59-b583-8cae88504504",
   "metadata": {},
   "outputs": [
    {
     "data": {
      "text/plain": [
       "125"
      ]
     },
     "execution_count": 135,
     "metadata": {},
     "output_type": "execute_result"
    }
   ],
   "source": [
    "#excluíndo cpf duplicados\n",
    "\n",
    "df_agregados_colunas.duplicated(subset=['CPF_CNPJ']).sum()"
   ]
  },
  {
   "cell_type": "code",
   "execution_count": 136,
   "id": "b2af5707-1a42-4fe6-a365-d74a7495d714",
   "metadata": {},
   "outputs": [
    {
     "data": {
      "text/plain": [
       "(6724, 5)"
      ]
     },
     "execution_count": 136,
     "metadata": {},
     "output_type": "execute_result"
    }
   ],
   "source": [
    "#Armazenando os CPF duplicados e logo apos a exclusão.\n",
    "df_agregados_duplicado = df_agregados_colunas[df_agregados_colunas.duplicated(subset=['CPF_CNPJ'])]\n",
    "\n",
    "# Excluíndo as linhas duplicadas\n",
    "\n",
    "df_agregados_clean = df_agregados_colunas.drop_duplicates(subset=['CPF_CNPJ'])\n",
    "\n",
    "#Exibindo as dimensão\n",
    "\n",
    "df_agregados_clean.shape\n",
    "                     "
   ]
  },
  {
   "cell_type": "code",
   "execution_count": 137,
   "id": "fd1de183-ff67-46d3-8b6f-3d9b1c01aa71",
   "metadata": {},
   "outputs": [
    {
     "data": {
      "text/plain": [
       "PLACA           0\n",
       "NOME_BASE       7\n",
       "TIPO_VEICULO    0\n",
       "AGREGADO        0\n",
       "CPF_CNPJ        0\n",
       "dtype: int64"
      ]
     },
     "execution_count": 137,
     "metadata": {},
     "output_type": "execute_result"
    }
   ],
   "source": [
    "#Verificando os missings do datafframe\n",
    "\n",
    "df_agregados_clean.isnull().sum()"
   ]
  },
  {
   "cell_type": "code",
   "execution_count": 138,
   "id": "d8d74224-c9fc-44cd-8574-3c9efb18a286",
   "metadata": {},
   "outputs": [
    {
     "data": {
      "text/html": [
       "<div>\n",
       "<style scoped>\n",
       "    .dataframe tbody tr th:only-of-type {\n",
       "        vertical-align: middle;\n",
       "    }\n",
       "\n",
       "    .dataframe tbody tr th {\n",
       "        vertical-align: top;\n",
       "    }\n",
       "\n",
       "    .dataframe thead th {\n",
       "        text-align: right;\n",
       "    }\n",
       "</style>\n",
       "<table border=\"1\" class=\"dataframe\">\n",
       "  <thead>\n",
       "    <tr style=\"text-align: right;\">\n",
       "      <th></th>\n",
       "      <th>PLACA</th>\n",
       "      <th>NOME_BASE</th>\n",
       "      <th>TIPO_VEICULO</th>\n",
       "      <th>AGREGADO</th>\n",
       "      <th>CPF_CNPJ</th>\n",
       "    </tr>\n",
       "  </thead>\n",
       "  <tbody>\n",
       "    <tr>\n",
       "      <th>3136</th>\n",
       "      <td>QUF3H47</td>\n",
       "      <td>NaN</td>\n",
       "      <td>PASSEIO</td>\n",
       "      <td>MARJORY LOUREIRO</td>\n",
       "      <td>758909764</td>\n",
       "    </tr>\n",
       "    <tr>\n",
       "      <th>4694</th>\n",
       "      <td>KVA3662</td>\n",
       "      <td>NaN</td>\n",
       "      <td>PASSEIO</td>\n",
       "      <td>TAC CARRO - CARLOS ALBERTO NASCIMENTO DA SILVA</td>\n",
       "      <td>16829862760</td>\n",
       "    </tr>\n",
       "    <tr>\n",
       "      <th>4841</th>\n",
       "      <td>KXS4B99</td>\n",
       "      <td>NaN</td>\n",
       "      <td>FIORINO</td>\n",
       "      <td>MEI CARRO - ROMULO GONÇALVES TORRES DE SOUZA</td>\n",
       "      <td>14593194784</td>\n",
       "    </tr>\n",
       "    <tr>\n",
       "      <th>4854</th>\n",
       "      <td>LRJ0573</td>\n",
       "      <td>NaN</td>\n",
       "      <td>PASSEIO</td>\n",
       "      <td>MEI CARRO - DANIELLE MORIEL MENEZES</td>\n",
       "      <td>9003567743</td>\n",
       "    </tr>\n",
       "    <tr>\n",
       "      <th>6080</th>\n",
       "      <td>MPV1186</td>\n",
       "      <td>NaN</td>\n",
       "      <td>PASSEIO</td>\n",
       "      <td>MEI CARRO - DIONES LEMOS MOTHE</td>\n",
       "      <td>5765193757</td>\n",
       "    </tr>\n",
       "    <tr>\n",
       "      <th>6400</th>\n",
       "      <td>QUH6D81</td>\n",
       "      <td>NaN</td>\n",
       "      <td>PASSEIO</td>\n",
       "      <td>TAC CARRO - ROBERT PIRES DUPIO</td>\n",
       "      <td>16662126799</td>\n",
       "    </tr>\n",
       "    <tr>\n",
       "      <th>6621</th>\n",
       "      <td>KNY4D11</td>\n",
       "      <td>NaN</td>\n",
       "      <td>PASSEIO</td>\n",
       "      <td>MEI CARRO - RAI RANGEL CRESPO</td>\n",
       "      <td>16150365719</td>\n",
       "    </tr>\n",
       "  </tbody>\n",
       "</table>\n",
       "</div>"
      ],
      "text/plain": [
       "        PLACA NOME_BASE TIPO_VEICULO  \\\n",
       "3136  QUF3H47       NaN      PASSEIO   \n",
       "4694  KVA3662       NaN      PASSEIO   \n",
       "4841  KXS4B99       NaN      FIORINO   \n",
       "4854  LRJ0573       NaN      PASSEIO   \n",
       "6080  MPV1186       NaN      PASSEIO   \n",
       "6400  QUH6D81       NaN      PASSEIO   \n",
       "6621  KNY4D11       NaN      PASSEIO   \n",
       "\n",
       "                                            AGREGADO     CPF_CNPJ  \n",
       "3136                                MARJORY LOUREIRO    758909764  \n",
       "4694  TAC CARRO - CARLOS ALBERTO NASCIMENTO DA SILVA  16829862760  \n",
       "4841    MEI CARRO - ROMULO GONÇALVES TORRES DE SOUZA  14593194784  \n",
       "4854             MEI CARRO - DANIELLE MORIEL MENEZES   9003567743  \n",
       "6080                  MEI CARRO - DIONES LEMOS MOTHE   5765193757  \n",
       "6400                  TAC CARRO - ROBERT PIRES DUPIO  16662126799  \n",
       "6621                   MEI CARRO - RAI RANGEL CRESPO  16150365719  "
      ]
     },
     "execution_count": 138,
     "metadata": {},
     "output_type": "execute_result"
    }
   ],
   "source": [
    "#Verificando o que são os missings\n",
    "df_agregados_clean[df_agregados_clean['NOME_BASE'].isna()]"
   ]
  },
  {
   "cell_type": "code",
   "execution_count": 139,
   "id": "e29e9dc9-006e-4e1d-b244-c427ead7c679",
   "metadata": {},
   "outputs": [
    {
     "data": {
      "text/plain": [
       "PLACA           0\n",
       "NOME_BASE       0\n",
       "TIPO_VEICULO    0\n",
       "AGREGADO        0\n",
       "CPF_CNPJ        0\n",
       "dtype: int64"
      ]
     },
     "execution_count": 139,
     "metadata": {},
     "output_type": "execute_result"
    }
   ],
   "source": [
    "#Modificando os missings para 'RJ' somente para ter uma base vinculada\n",
    "df_agregados_clean['NOME_BASE'].fillna('RJ',inplace=True)\n",
    "\n",
    "#Verificando se existe missings\n",
    "df_agregados_clean.isnull().sum()\n"
   ]
  },
  {
   "cell_type": "code",
   "execution_count": 140,
   "id": "85dc0aa0-f915-438e-afa7-94820ee88586",
   "metadata": {},
   "outputs": [
    {
     "data": {
      "text/plain": [
       "array(['FIORINO', 'Moto', 'PASSEIO', 'Utilitário', 'HR-Furgão', 'Truck',\n",
       "       'Camionete', 'Furgao', 'VUC', '3/4', 'Baú', 'VAN'], dtype=object)"
      ]
     },
     "execution_count": 140,
     "metadata": {},
     "output_type": "execute_result"
    }
   ],
   "source": [
    "#Verificando os tidos de veículos\n",
    "df_agregados_clean['TIPO_VEICULO'].unique()"
   ]
  },
  {
   "cell_type": "code",
   "execution_count": 141,
   "id": "9bfa67ad-a8e3-4f57-8f2e-8d1b48f67224",
   "metadata": {},
   "outputs": [],
   "source": [
    "# Adequando os nomes do Veículos\n",
    "\n",
    "df_agregados_clean['TIPO_VEICULO'] = df_agregados_clean['TIPO_VEICULO'].replace('FIORINO','CARRO')\n",
    "\n",
    "df_agregados_clean['TIPO_VEICULO'] = df_agregados_clean['TIPO_VEICULO'].replace('PASSEIO','CARRO')\n",
    "\n",
    "df_agregados_clean['TIPO_VEICULO'] = df_agregados_clean['TIPO_VEICULO'].replace('Utilitário','CARRO')\n",
    "\n",
    "df_agregados_clean['TIPO_VEICULO'] = df_agregados_clean['TIPO_VEICULO'].replace('HR-Furgão','CARRO')\n",
    "\n",
    "df_agregados_clean['TIPO_VEICULO'] = df_agregados_clean['TIPO_VEICULO'].replace('Truck','CARRO')\n",
    "\n",
    "df_agregados_clean['TIPO_VEICULO'] = df_agregados_clean['TIPO_VEICULO'].replace('Camionete','CARRO')\n",
    "\n",
    "df_agregados_clean['TIPO_VEICULO'] = df_agregados_clean['TIPO_VEICULO'].replace('Furgao','CARRO')\n",
    "\n",
    "df_agregados_clean['TIPO_VEICULO'] = df_agregados_clean['TIPO_VEICULO'].replace('Furgao','CARRO')\n",
    "\n",
    "df_agregados_clean['TIPO_VEICULO'] = df_agregados_clean['TIPO_VEICULO'].replace('VUC','CARRO')\n",
    "\n",
    "df_agregados_clean['TIPO_VEICULO'] = df_agregados_clean['TIPO_VEICULO'].replace('3/4','CARRO')\n",
    "\n",
    "df_agregados_clean['TIPO_VEICULO'] = df_agregados_clean['TIPO_VEICULO'].replace('Baú','CARRO')\n",
    "\n",
    "df_agregados_clean['TIPO_VEICULO'] = df_agregados_clean['TIPO_VEICULO'].replace('VAN','CARRO')\n",
    "\n",
    "df_agregados_clean['TIPO_VEICULO'] = df_agregados_clean['TIPO_VEICULO'].replace('Moto','MOTO')"
   ]
  },
  {
   "cell_type": "code",
   "execution_count": 142,
   "id": "b5b2b5b1-5e62-4d7d-ab37-de8474267ff7",
   "metadata": {},
   "outputs": [
    {
     "data": {
      "text/plain": [
       "array(['CARRO', 'MOTO'], dtype=object)"
      ]
     },
     "execution_count": 142,
     "metadata": {},
     "output_type": "execute_result"
    }
   ],
   "source": [
    "#Validando a alteração\n",
    "df_agregados_clean['TIPO_VEICULO'].unique()"
   ]
  },
  {
   "cell_type": "code",
   "execution_count": 143,
   "id": "5a2e394d-bf22-4085-9777-c7e307202fa6",
   "metadata": {},
   "outputs": [],
   "source": [
    "#Buscando os agregados que são tipo bike e estão especificados no nome.\n",
    "#.loc serve para mostrar somente o atributos especifico\n",
    "#str.contains('BIKE') -> Busca por essa palavras em uma string dentro do atributos\n",
    "#,(TIPO_VEICULO)] = 'BIKE' -> Muda as linha que está na pesquisa em um nome especificado 'BIKE'\n",
    "\n",
    "\n",
    "df_agregados_clean.loc[df_agregados_clean['AGREGADO'].str.contains('BIKE'), 'TIPO_VEICULO'] = 'BIKE'"
   ]
  },
  {
   "cell_type": "code",
   "execution_count": 144,
   "id": "ea2a6f82-3c45-4ffb-9e6a-90f61d074a39",
   "metadata": {},
   "outputs": [
    {
     "data": {
      "text/plain": [
       "array(['CARRO', 'MOTO', 'BIKE'], dtype=object)"
      ]
     },
     "execution_count": 144,
     "metadata": {},
     "output_type": "execute_result"
    }
   ],
   "source": [
    "df_agregados_clean['TIPO_VEICULO'].unique()"
   ]
  },
  {
   "cell_type": "code",
   "execution_count": 145,
   "id": "13b0108e-bf96-4a50-b0f4-f540b15fde3f",
   "metadata": {},
   "outputs": [
    {
     "data": {
      "text/plain": [
       "0"
      ]
     },
     "execution_count": 145,
     "metadata": {},
     "output_type": "execute_result"
    }
   ],
   "source": [
    "df_agregados_clean.duplicated(subset=['CPF_CNPJ']).sum()"
   ]
  },
  {
   "cell_type": "code",
   "execution_count": 146,
   "id": "5e3b1251-688b-4023-bef0-860258b0e937",
   "metadata": {},
   "outputs": [
    {
     "data": {
      "text/plain": [
       "(6724, 5)"
      ]
     },
     "execution_count": 146,
     "metadata": {},
     "output_type": "execute_result"
    }
   ],
   "source": [
    "df_agregados_clean.shape"
   ]
  },
  {
   "cell_type": "code",
   "execution_count": 147,
   "id": "4ec97fa1-4db4-4f82-82da-ebe703da2943",
   "metadata": {},
   "outputs": [],
   "source": [
    "df_agregados_clean.to_csv('agregados_motorista.csv',encoding='utf-8',index=False)"
   ]
  }
 ],
 "metadata": {
  "kernelspec": {
   "display_name": "Python 3 (ipykernel)",
   "language": "python",
   "name": "python3"
  },
  "language_info": {
   "codemirror_mode": {
    "name": "ipython",
    "version": 3
   },
   "file_extension": ".py",
   "mimetype": "text/x-python",
   "name": "python",
   "nbconvert_exporter": "python",
   "pygments_lexer": "ipython3",
   "version": "3.9.13"
  }
 },
 "nbformat": 4,
 "nbformat_minor": 5
}
