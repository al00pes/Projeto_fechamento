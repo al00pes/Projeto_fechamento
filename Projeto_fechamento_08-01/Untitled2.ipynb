{
 "cells": [
  {
   "cell_type": "code",
   "execution_count": 1,
   "id": "85034398-0f47-477b-9f1f-0a3cfc3ac67f",
   "metadata": {
    "tags": []
   },
   "outputs": [
    {
     "name": "stdout",
     "output_type": "stream",
     "text": [
      "   Coluna1  Coluna2 NovaColuna\n",
      "0        1        5     Valor2\n",
      "1        2        6     Valor2\n",
      "2        3        7     Valor1\n",
      "3        4        8     Valor1\n"
     ]
    }
   ],
   "source": [
    "import pandas as pd\n",
    "\n",
    "# Criar um DataFrame de exemplo\n",
    "dados = {'Coluna1': [1, 2, 3, 4],\n",
    "         'Coluna2': [5, 6, 7, 8]}\n",
    "df = pd.DataFrame(dados)\n",
    "\n",
    "# Adicionar uma nova coluna com base em duas ou três condições\n",
    "df['NovaColuna'] = ['Valor1' if (x > 2 and y > 5) else 'Valor2' for x, y in zip(df['Coluna1'], df['Coluna2'])]\n",
    "\n",
    "# Exibir o DataFrame resultante\n",
    "print(df)\n"
   ]
  },
  {
   "cell_type": "code",
   "execution_count": 2,
   "id": "335514d7-e067-4661-9dbf-145b40d9753a",
   "metadata": {
    "tags": []
   },
   "outputs": [
    {
     "name": "stdout",
     "output_type": "stream",
     "text": [
      "   Coluna1  Coluna2 NovaColuna\n",
      "0        1        5     Valor3\n",
      "1        2        6     Valor3\n",
      "2        3        7     Valor2\n",
      "3        4        8     Valor2\n"
     ]
    }
   ],
   "source": [
    "import pandas as pd\n",
    "\n",
    "# Criar um DataFrame de exemplo\n",
    "dados = {'Coluna1': [1, 2, 3, 4],\n",
    "         'Coluna2': [5, 6, 7, 8]}\n",
    "df = pd.DataFrame(dados)\n",
    "\n",
    "# Adicionar uma nova coluna com base em duas ou três condições\n",
    "condicao_1 = (df['Coluna1'] > 1 and 3  )\n",
    "condicao_2 = (df['Coluna2'] < 7)\n",
    "\n",
    "df['NovaColuna'] = 'Valor1'\n",
    "\n",
    "# Aplicar condição 1\n",
    "df.loc[condicao_1, 'NovaColuna'] = 'Valor2'\n",
    "\n",
    "# Aplicar condição 2\n",
    "df.loc[condicao_2, 'NovaColuna'] = 'Valor3'\n",
    "\n",
    "# Exibir o DataFrame resultante\n",
    "print(df)\n"
   ]
  }
 ],
 "metadata": {
  "kernelspec": {
   "display_name": "Python 3 (ipykernel)",
   "language": "python",
   "name": "python3"
  },
  "language_info": {
   "codemirror_mode": {
    "name": "ipython",
    "version": 3
   },
   "file_extension": ".py",
   "mimetype": "text/x-python",
   "name": "python",
   "nbconvert_exporter": "python",
   "pygments_lexer": "ipython3",
   "version": "3.11.5"
  }
 },
 "nbformat": 4,
 "nbformat_minor": 5
}
