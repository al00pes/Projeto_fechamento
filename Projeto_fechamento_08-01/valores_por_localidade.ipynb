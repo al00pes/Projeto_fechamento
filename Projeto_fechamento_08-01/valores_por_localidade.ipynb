{
 "cells": [
  {
   "cell_type": "code",
   "execution_count": 1,
   "id": "0c5201f1-d6d3-4c0c-983e-533c25546804",
   "metadata": {},
   "outputs": [],
   "source": [
    "# Configuração para não exibir os warnings\n",
    "import warnings\n",
    "warnings.filterwarnings(\"ignore\")\n",
    "import pandas as pd"
   ]
  },
  {
   "cell_type": "code",
   "execution_count": 3,
   "id": "ec0f7aed-bed1-4cf5-bab8-2b1d7aa83322",
   "metadata": {},
   "outputs": [],
   "source": [
    "#importando todos os csv com o valores\n",
    "\n",
    "df_baixada = pd.read_csv('./VALORES_POR_LOCALIDADE/Baixada_Fluminense_Valores.csv', delimiter=';')\n",
    "\n",
    "df_capita = pd.read_csv('./VALORES_POR_LOCALIDADE/Capital_Valores.csv', delimiter=';')\n",
    "\n",
    "df_norte_fluminense = pd.read_csv('./VALORES_POR_LOCALIDADE/Norte_Fluminense_valores.csv', delimiter=';')\n",
    "\n",
    "df_regiao_serrana = pd.read_csv('./VALORES_POR_LOCALIDADE/regiao_serrana_Valores.csv', delimiter=';')\n",
    "\n",
    "df_sul_fluminense = pd.read_csv('./VALORES_POR_LOCALIDADE/Sul_Fluminense_Valores.csv', delimiter=';')"
   ]
  },
  {
   "cell_type": "code",
   "execution_count": 11,
   "id": "69eb7a97-bc78-40a2-a33d-82c473dd7756",
   "metadata": {},
   "outputs": [
    {
     "name": "stdout",
     "output_type": "stream",
     "text": [
      "<class 'pandas.core.frame.DataFrame'>\n",
      "RangeIndex: 333 entries, 0 to 332\n",
      "Data columns (total 5 columns):\n",
      " #   Column         Non-Null Count  Dtype \n",
      "---  ------         --------------  ----- \n",
      " 0   Base           333 non-null    object\n",
      " 1   Cidade         333 non-null    object\n",
      " 2   Bairro         291 non-null    object\n",
      " 3   Valor_entrega  333 non-null    object\n",
      " 4   Tipo_veiculo   333 non-null    object\n",
      "dtypes: object(5)\n",
      "memory usage: 13.1+ KB\n"
     ]
    }
   ],
   "source": [
    "df_baixada.info()"
   ]
  },
  {
   "cell_type": "code",
   "execution_count": 12,
   "id": "99ab6461-532e-45a7-b643-d18c3b9a357c",
   "metadata": {},
   "outputs": [
    {
     "name": "stdout",
     "output_type": "stream",
     "text": [
      "<class 'pandas.core.frame.DataFrame'>\n",
      "RangeIndex: 270 entries, 0 to 269\n",
      "Data columns (total 5 columns):\n",
      " #   Column         Non-Null Count  Dtype \n",
      "---  ------         --------------  ----- \n",
      " 0   Base           270 non-null    object\n",
      " 1   Cidade         270 non-null    object\n",
      " 2   Bairro         228 non-null    object\n",
      " 3   Valor_entrega  270 non-null    object\n",
      " 4   Tipo_veiculo   270 non-null    object\n",
      "dtypes: object(5)\n",
      "memory usage: 10.7+ KB\n"
     ]
    }
   ],
   "source": [
    "df_capita.info()"
   ]
  },
  {
   "cell_type": "code",
   "execution_count": 13,
   "id": "7f2f6031-7506-4aef-9b10-55e438235b74",
   "metadata": {},
   "outputs": [
    {
     "name": "stdout",
     "output_type": "stream",
     "text": [
      "<class 'pandas.core.frame.DataFrame'>\n",
      "RangeIndex: 132 entries, 0 to 131\n",
      "Data columns (total 5 columns):\n",
      " #   Column         Non-Null Count  Dtype \n",
      "---  ------         --------------  ----- \n",
      " 0   Base           132 non-null    object\n",
      " 1   Cidade         132 non-null    object\n",
      " 2   Bairro         12 non-null     object\n",
      " 3   Valor_entrega  132 non-null    object\n",
      " 4   Tipo_veiculo   132 non-null    object\n",
      "dtypes: object(5)\n",
      "memory usage: 5.3+ KB\n"
     ]
    }
   ],
   "source": [
    "df_norte_fluminense.info()"
   ]
  },
  {
   "cell_type": "code",
   "execution_count": 14,
   "id": "0141b236-a3f8-4ccb-8508-cd00b8924d2b",
   "metadata": {},
   "outputs": [
    {
     "name": "stdout",
     "output_type": "stream",
     "text": [
      "<class 'pandas.core.frame.DataFrame'>\n",
      "RangeIndex: 375 entries, 0 to 374\n",
      "Data columns (total 5 columns):\n",
      " #   Column         Non-Null Count  Dtype \n",
      "---  ------         --------------  ----- \n",
      " 0   Base           375 non-null    object\n",
      " 1   Cidade         375 non-null    object\n",
      " 2   Bairro         312 non-null    object\n",
      " 3   Valor_entrega  375 non-null    object\n",
      " 4   Tipo_veiculo   375 non-null    object\n",
      "dtypes: object(5)\n",
      "memory usage: 14.8+ KB\n"
     ]
    }
   ],
   "source": [
    "df_regiao_serrana.info()"
   ]
  },
  {
   "cell_type": "code",
   "execution_count": 15,
   "id": "5f38e2e7-56d9-4962-9ca4-586a781f831c",
   "metadata": {},
   "outputs": [
    {
     "name": "stdout",
     "output_type": "stream",
     "text": [
      "<class 'pandas.core.frame.DataFrame'>\n",
      "RangeIndex: 84 entries, 0 to 83\n",
      "Data columns (total 5 columns):\n",
      " #   Column         Non-Null Count  Dtype \n",
      "---  ------         --------------  ----- \n",
      " 0   Base           84 non-null     object\n",
      " 1   Cidade         84 non-null     object\n",
      " 2   Bairro         18 non-null     object\n",
      " 3   Valor_entrega  84 non-null     object\n",
      " 4   Tipo_veiculo   84 non-null     object\n",
      "dtypes: object(5)\n",
      "memory usage: 3.4+ KB\n"
     ]
    }
   ],
   "source": [
    "df_sul_fluminense.info()"
   ]
  },
  {
   "cell_type": "code",
   "execution_count": 16,
   "id": "94995b48-6dd7-4ee9-94db-c790d83d3862",
   "metadata": {},
   "outputs": [],
   "source": [
    "#concatenando os dataframes\n",
    "\n",
    "df_valores = pd.concat([df_baixada,df_capita,df_norte_fluminense,df_regiao_serrana,df_sul_fluminense])"
   ]
  },
  {
   "cell_type": "code",
   "execution_count": 17,
   "id": "040b33e5-0aeb-42a7-8ed4-5babeae513eb",
   "metadata": {},
   "outputs": [
    {
     "name": "stdout",
     "output_type": "stream",
     "text": [
      "<class 'pandas.core.frame.DataFrame'>\n",
      "Int64Index: 1194 entries, 0 to 83\n",
      "Data columns (total 5 columns):\n",
      " #   Column         Non-Null Count  Dtype \n",
      "---  ------         --------------  ----- \n",
      " 0   Base           1194 non-null   object\n",
      " 1   Cidade         1194 non-null   object\n",
      " 2   Bairro         861 non-null    object\n",
      " 3   Valor_entrega  1194 non-null   object\n",
      " 4   Tipo_veiculo   1194 non-null   object\n",
      "dtypes: object(5)\n",
      "memory usage: 56.0+ KB\n"
     ]
    }
   ],
   "source": [
    "df_valores.info()"
   ]
  },
  {
   "cell_type": "code",
   "execution_count": 18,
   "id": "65cff39d-fa1a-4c2c-8864-a54e7ab8d312",
   "metadata": {},
   "outputs": [
    {
     "data": {
      "text/html": [
       "<div>\n",
       "<style scoped>\n",
       "    .dataframe tbody tr th:only-of-type {\n",
       "        vertical-align: middle;\n",
       "    }\n",
       "\n",
       "    .dataframe tbody tr th {\n",
       "        vertical-align: top;\n",
       "    }\n",
       "\n",
       "    .dataframe thead th {\n",
       "        text-align: right;\n",
       "    }\n",
       "</style>\n",
       "<table border=\"1\" class=\"dataframe\">\n",
       "  <thead>\n",
       "    <tr style=\"text-align: right;\">\n",
       "      <th></th>\n",
       "      <th>Base</th>\n",
       "      <th>Cidade</th>\n",
       "      <th>Bairro</th>\n",
       "      <th>Valor_entrega</th>\n",
       "      <th>Tipo_veiculo</th>\n",
       "    </tr>\n",
       "  </thead>\n",
       "  <tbody>\n",
       "    <tr>\n",
       "      <th>0</th>\n",
       "      <td>CD NVI 001</td>\n",
       "      <td>NOVA IGUAÇU</td>\n",
       "      <td>NaN</td>\n",
       "      <td>2,8</td>\n",
       "      <td>CARRO</td>\n",
       "    </tr>\n",
       "    <tr>\n",
       "      <th>1</th>\n",
       "      <td>CD NVI 001</td>\n",
       "      <td>NOVA IGUAÇU</td>\n",
       "      <td>KM 32</td>\n",
       "      <td>3,7</td>\n",
       "      <td>CARRO</td>\n",
       "    </tr>\n",
       "    <tr>\n",
       "      <th>2</th>\n",
       "      <td>CD NVI 001</td>\n",
       "      <td>QUEIMADOS</td>\n",
       "      <td>NaN</td>\n",
       "      <td>2,8</td>\n",
       "      <td>CARRO</td>\n",
       "    </tr>\n",
       "    <tr>\n",
       "      <th>3</th>\n",
       "      <td>CD NVI 001</td>\n",
       "      <td>MESQUITA</td>\n",
       "      <td>NaN</td>\n",
       "      <td>2,8</td>\n",
       "      <td>CARRO</td>\n",
       "    </tr>\n",
       "    <tr>\n",
       "      <th>4</th>\n",
       "      <td>CD NVI 001</td>\n",
       "      <td>JAPERI</td>\n",
       "      <td>NaN</td>\n",
       "      <td>3</td>\n",
       "      <td>CARRO</td>\n",
       "    </tr>\n",
       "  </tbody>\n",
       "</table>\n",
       "</div>"
      ],
      "text/plain": [
       "         Base       Cidade Bairro Valor_entrega Tipo_veiculo\n",
       "0  CD NVI 001  NOVA IGUAÇU    NaN           2,8        CARRO\n",
       "1  CD NVI 001  NOVA IGUAÇU  KM 32           3,7        CARRO\n",
       "2  CD NVI 001    QUEIMADOS    NaN           2,8        CARRO\n",
       "3  CD NVI 001     MESQUITA    NaN           2,8        CARRO\n",
       "4  CD NVI 001       JAPERI    NaN             3        CARRO"
      ]
     },
     "execution_count": 18,
     "metadata": {},
     "output_type": "execute_result"
    }
   ],
   "source": [
    "df_valores.head()"
   ]
  },
  {
   "cell_type": "code",
   "execution_count": 20,
   "id": "9e7755f4-8bb5-435b-8f75-68602acd7492",
   "metadata": {},
   "outputs": [
    {
     "data": {
      "text/plain": [
       "Base               0\n",
       "Cidade             0\n",
       "Bairro           333\n",
       "Valor_entrega      0\n",
       "Tipo_veiculo       0\n",
       "dtype: int64"
      ]
     },
     "execution_count": 20,
     "metadata": {},
     "output_type": "execute_result"
    }
   ],
   "source": [
    "#verificando os valores nulo\n",
    "df_valores.isnull().sum()"
   ]
  },
  {
   "cell_type": "code",
   "execution_count": 22,
   "id": "bd0c453f-5aab-40c8-bab1-9a1737d189a9",
   "metadata": {},
   "outputs": [
    {
     "data": {
      "text/html": [
       "<div>\n",
       "<style scoped>\n",
       "    .dataframe tbody tr th:only-of-type {\n",
       "        vertical-align: middle;\n",
       "    }\n",
       "\n",
       "    .dataframe tbody tr th {\n",
       "        vertical-align: top;\n",
       "    }\n",
       "\n",
       "    .dataframe thead th {\n",
       "        text-align: right;\n",
       "    }\n",
       "</style>\n",
       "<table border=\"1\" class=\"dataframe\">\n",
       "  <thead>\n",
       "    <tr style=\"text-align: right;\">\n",
       "      <th></th>\n",
       "      <th>Base</th>\n",
       "      <th>Cidade</th>\n",
       "      <th>Bairro</th>\n",
       "      <th>Valor_entrega</th>\n",
       "      <th>Tipo_veiculo</th>\n",
       "    </tr>\n",
       "  </thead>\n",
       "  <tbody>\n",
       "    <tr>\n",
       "      <th>0</th>\n",
       "      <td>CD NVI 001</td>\n",
       "      <td>NOVA IGUAÇU</td>\n",
       "      <td>BAIRRO INEXISTENTE</td>\n",
       "      <td>2,8</td>\n",
       "      <td>CARRO</td>\n",
       "    </tr>\n",
       "    <tr>\n",
       "      <th>1</th>\n",
       "      <td>CD NVI 001</td>\n",
       "      <td>NOVA IGUAÇU</td>\n",
       "      <td>KM 32</td>\n",
       "      <td>3,7</td>\n",
       "      <td>CARRO</td>\n",
       "    </tr>\n",
       "    <tr>\n",
       "      <th>2</th>\n",
       "      <td>CD NVI 001</td>\n",
       "      <td>QUEIMADOS</td>\n",
       "      <td>BAIRRO INEXISTENTE</td>\n",
       "      <td>2,8</td>\n",
       "      <td>CARRO</td>\n",
       "    </tr>\n",
       "    <tr>\n",
       "      <th>3</th>\n",
       "      <td>CD NVI 001</td>\n",
       "      <td>MESQUITA</td>\n",
       "      <td>BAIRRO INEXISTENTE</td>\n",
       "      <td>2,8</td>\n",
       "      <td>CARRO</td>\n",
       "    </tr>\n",
       "    <tr>\n",
       "      <th>4</th>\n",
       "      <td>CD NVI 001</td>\n",
       "      <td>JAPERI</td>\n",
       "      <td>BAIRRO INEXISTENTE</td>\n",
       "      <td>3</td>\n",
       "      <td>CARRO</td>\n",
       "    </tr>\n",
       "  </tbody>\n",
       "</table>\n",
       "</div>"
      ],
      "text/plain": [
       "         Base       Cidade              Bairro Valor_entrega Tipo_veiculo\n",
       "0  CD NVI 001  NOVA IGUAÇU  BAIRRO INEXISTENTE           2,8        CARRO\n",
       "1  CD NVI 001  NOVA IGUAÇU               KM 32           3,7        CARRO\n",
       "2  CD NVI 001    QUEIMADOS  BAIRRO INEXISTENTE           2,8        CARRO\n",
       "3  CD NVI 001     MESQUITA  BAIRRO INEXISTENTE           2,8        CARRO\n",
       "4  CD NVI 001       JAPERI  BAIRRO INEXISTENTE             3        CARRO"
      ]
     },
     "execution_count": 22,
     "metadata": {},
     "output_type": "execute_result"
    }
   ],
   "source": [
    "#modificando os ' Nan ' para 'BAIRRO INEXISTENTE'\n",
    "df_valores['Bairro'] = df_valores['Bairro'].fillna('BAIRRO INEXISTENTE')\n",
    "\n",
    "#Exibindo\n",
    "\n",
    "df_valores.head()"
   ]
  },
  {
   "cell_type": "code",
   "execution_count": 23,
   "id": "80584001-f227-4477-b457-b1e6c8ea0080",
   "metadata": {},
   "outputs": [
    {
     "data": {
      "text/plain": [
       "Base             0\n",
       "Cidade           0\n",
       "Bairro           0\n",
       "Valor_entrega    0\n",
       "Tipo_veiculo     0\n",
       "dtype: int64"
      ]
     },
     "execution_count": 23,
     "metadata": {},
     "output_type": "execute_result"
    }
   ],
   "source": [
    "df_valores.isnull().sum()"
   ]
  },
  {
   "cell_type": "code",
   "execution_count": 26,
   "id": "0e360e32-b666-41f3-aab7-2bee4f07af98",
   "metadata": {},
   "outputs": [
    {
     "data": {
      "text/html": [
       "<div>\n",
       "<style scoped>\n",
       "    .dataframe tbody tr th:only-of-type {\n",
       "        vertical-align: middle;\n",
       "    }\n",
       "\n",
       "    .dataframe tbody tr th {\n",
       "        vertical-align: top;\n",
       "    }\n",
       "\n",
       "    .dataframe thead th {\n",
       "        text-align: right;\n",
       "    }\n",
       "</style>\n",
       "<table border=\"1\" class=\"dataframe\">\n",
       "  <thead>\n",
       "    <tr style=\"text-align: right;\">\n",
       "      <th></th>\n",
       "      <th>Base</th>\n",
       "      <th>Cidade</th>\n",
       "      <th>Bairro</th>\n",
       "      <th>Valor_entrega</th>\n",
       "      <th>Tipo_veiculo</th>\n",
       "    </tr>\n",
       "  </thead>\n",
       "  <tbody>\n",
       "    <tr>\n",
       "      <th>0</th>\n",
       "      <td>CD NVI 001</td>\n",
       "      <td>NOVA IGUAÇU</td>\n",
       "      <td>BAIRRO INEXISTENTE</td>\n",
       "      <td>2.8</td>\n",
       "      <td>CARRO</td>\n",
       "    </tr>\n",
       "    <tr>\n",
       "      <th>1</th>\n",
       "      <td>CD NVI 001</td>\n",
       "      <td>NOVA IGUAÇU</td>\n",
       "      <td>KM 32</td>\n",
       "      <td>3.7</td>\n",
       "      <td>CARRO</td>\n",
       "    </tr>\n",
       "    <tr>\n",
       "      <th>2</th>\n",
       "      <td>CD NVI 001</td>\n",
       "      <td>QUEIMADOS</td>\n",
       "      <td>BAIRRO INEXISTENTE</td>\n",
       "      <td>2.8</td>\n",
       "      <td>CARRO</td>\n",
       "    </tr>\n",
       "    <tr>\n",
       "      <th>3</th>\n",
       "      <td>CD NVI 001</td>\n",
       "      <td>MESQUITA</td>\n",
       "      <td>BAIRRO INEXISTENTE</td>\n",
       "      <td>2.8</td>\n",
       "      <td>CARRO</td>\n",
       "    </tr>\n",
       "    <tr>\n",
       "      <th>4</th>\n",
       "      <td>CD NVI 001</td>\n",
       "      <td>JAPERI</td>\n",
       "      <td>BAIRRO INEXISTENTE</td>\n",
       "      <td>3</td>\n",
       "      <td>CARRO</td>\n",
       "    </tr>\n",
       "  </tbody>\n",
       "</table>\n",
       "</div>"
      ],
      "text/plain": [
       "         Base       Cidade              Bairro Valor_entrega Tipo_veiculo\n",
       "0  CD NVI 001  NOVA IGUAÇU  BAIRRO INEXISTENTE           2.8        CARRO\n",
       "1  CD NVI 001  NOVA IGUAÇU               KM 32           3.7        CARRO\n",
       "2  CD NVI 001    QUEIMADOS  BAIRRO INEXISTENTE           2.8        CARRO\n",
       "3  CD NVI 001     MESQUITA  BAIRRO INEXISTENTE           2.8        CARRO\n",
       "4  CD NVI 001       JAPERI  BAIRRO INEXISTENTE             3        CARRO"
      ]
     },
     "execution_count": 26,
     "metadata": {},
     "output_type": "execute_result"
    }
   ],
   "source": [
    "#modificando a virgula para ponto\n",
    "df_valores['Valor_entrega'] = df_valores['Valor_entrega'].str.replace(',','.')\n",
    "\n",
    "#exibindo o dataframe\n",
    "df_valores.head()"
   ]
  },
  {
   "cell_type": "code",
   "execution_count": 27,
   "id": "d9152011-5239-4f64-8eb3-e57cba623e1e",
   "metadata": {},
   "outputs": [
    {
     "name": "stdout",
     "output_type": "stream",
     "text": [
      "<class 'pandas.core.frame.DataFrame'>\n",
      "Int64Index: 1194 entries, 0 to 83\n",
      "Data columns (total 5 columns):\n",
      " #   Column         Non-Null Count  Dtype  \n",
      "---  ------         --------------  -----  \n",
      " 0   Base           1194 non-null   object \n",
      " 1   Cidade         1194 non-null   object \n",
      " 2   Bairro         1194 non-null   object \n",
      " 3   Valor_entrega  1194 non-null   float64\n",
      " 4   Tipo_veiculo   1194 non-null   object \n",
      "dtypes: float64(1), object(4)\n",
      "memory usage: 56.0+ KB\n"
     ]
    }
   ],
   "source": [
    "#Transformando a coluna especifica para o tipo float\n",
    "\n",
    "df_valores['Valor_entrega'] = df_valores['Valor_entrega'].astype(float)\n",
    "\n",
    "#exibindo\n",
    "df_valores.info()"
   ]
  },
  {
   "cell_type": "code",
   "execution_count": 39,
   "id": "5b10d7b2-02b5-49bf-aab6-90f32b9ca160",
   "metadata": {},
   "outputs": [
    {
     "data": {
      "text/html": [
       "<div>\n",
       "<style scoped>\n",
       "    .dataframe tbody tr th:only-of-type {\n",
       "        vertical-align: middle;\n",
       "    }\n",
       "\n",
       "    .dataframe tbody tr th {\n",
       "        vertical-align: top;\n",
       "    }\n",
       "\n",
       "    .dataframe thead th {\n",
       "        text-align: right;\n",
       "    }\n",
       "</style>\n",
       "<table border=\"1\" class=\"dataframe\">\n",
       "  <thead>\n",
       "    <tr style=\"text-align: right;\">\n",
       "      <th></th>\n",
       "      <th>Base</th>\n",
       "      <th>Cidade</th>\n",
       "      <th>Bairro</th>\n",
       "      <th>Valor_entrega</th>\n",
       "      <th>Tipo_veiculo</th>\n",
       "    </tr>\n",
       "  </thead>\n",
       "  <tbody>\n",
       "    <tr>\n",
       "      <th>0</th>\n",
       "      <td>CD NVI 001</td>\n",
       "      <td>NOVA IGUAÇU</td>\n",
       "      <td>BAIRRO INEXISTENTE</td>\n",
       "      <td>2.8</td>\n",
       "      <td>CARRO</td>\n",
       "    </tr>\n",
       "    <tr>\n",
       "      <th>1</th>\n",
       "      <td>CD NVI 001</td>\n",
       "      <td>NOVA IGUAÇU</td>\n",
       "      <td>KM 32</td>\n",
       "      <td>3.7</td>\n",
       "      <td>CARRO</td>\n",
       "    </tr>\n",
       "    <tr>\n",
       "      <th>2</th>\n",
       "      <td>CD NVI 001</td>\n",
       "      <td>QUEIMADOS</td>\n",
       "      <td>BAIRRO INEXISTENTE</td>\n",
       "      <td>2.8</td>\n",
       "      <td>CARRO</td>\n",
       "    </tr>\n",
       "    <tr>\n",
       "      <th>3</th>\n",
       "      <td>CD NVI 001</td>\n",
       "      <td>MESQUITA</td>\n",
       "      <td>BAIRRO INEXISTENTE</td>\n",
       "      <td>2.8</td>\n",
       "      <td>CARRO</td>\n",
       "    </tr>\n",
       "    <tr>\n",
       "      <th>4</th>\n",
       "      <td>CD NVI 001</td>\n",
       "      <td>JAPERI</td>\n",
       "      <td>BAIRRO INEXISTENTE</td>\n",
       "      <td>3.0</td>\n",
       "      <td>CARRO</td>\n",
       "    </tr>\n",
       "  </tbody>\n",
       "</table>\n",
       "</div>"
      ],
      "text/plain": [
       "         Base       Cidade              Bairro  Valor_entrega Tipo_veiculo\n",
       "0  CD NVI 001  NOVA IGUAÇU  BAIRRO INEXISTENTE            2.8        CARRO\n",
       "1  CD NVI 001  NOVA IGUAÇU               KM 32            3.7        CARRO\n",
       "2  CD NVI 001    QUEIMADOS  BAIRRO INEXISTENTE            2.8        CARRO\n",
       "3  CD NVI 001     MESQUITA  BAIRRO INEXISTENTE            2.8        CARRO\n",
       "4  CD NVI 001       JAPERI  BAIRRO INEXISTENTE            3.0        CARRO"
      ]
     },
     "execution_count": 39,
     "metadata": {},
     "output_type": "execute_result"
    }
   ],
   "source": [
    "#colocando todas as row das linhas em maíusculo\n",
    "\n",
    "df_valores['Bairro'] = df_valores['Bairro'].str.upper()\n",
    "\n",
    "df_valores['Cidade'] = df_valores['Cidade'].str.upper()\n",
    "\n",
    "df_valores['Base'] =df_valores['Base'].str.upper()\n",
    "\n",
    "#exibindo o dataframe\n",
    "\n",
    "df_valores.head()"
   ]
  },
  {
   "cell_type": "code",
   "execution_count": 40,
   "id": "9f574521-7063-4f8e-ad27-b1ea153e3003",
   "metadata": {},
   "outputs": [],
   "source": [
    "#Salvando em CSV\n",
    "\n",
    "df_valores.to_csv('./valores_localidade.csv', encoding='utf-16')"
   ]
  }
 ],
 "metadata": {
  "kernelspec": {
   "display_name": "Python 3 (ipykernel)",
   "language": "python",
   "name": "python3"
  },
  "language_info": {
   "codemirror_mode": {
    "name": "ipython",
    "version": 3
   },
   "file_extension": ".py",
   "mimetype": "text/x-python",
   "name": "python",
   "nbconvert_exporter": "python",
   "pygments_lexer": "ipython3",
   "version": "3.11.5"
  }
 },
 "nbformat": 4,
 "nbformat_minor": 5
}
