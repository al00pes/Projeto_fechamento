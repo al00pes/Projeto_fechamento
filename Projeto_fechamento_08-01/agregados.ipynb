{
 "cells": [
  {
   "cell_type": "code",
   "execution_count": 6,
   "id": "be41dfce-a43f-48c8-b62b-4e29e6dbaab0",
   "metadata": {},
   "outputs": [],
   "source": [
    "# Configuração para não exibir os warnings\n",
    "import warnings\n",
    "warnings.filterwarnings(\"ignore\")\n",
    "import pandas as pd"
   ]
  },
  {
   "cell_type": "code",
   "execution_count": 7,
   "id": "0b476725-a606-49c6-b9e6-aab93c475a02",
   "metadata": {},
   "outputs": [
    {
     "data": {
      "text/html": [
       "<div>\n",
       "<style scoped>\n",
       "    .dataframe tbody tr th:only-of-type {\n",
       "        vertical-align: middle;\n",
       "    }\n",
       "\n",
       "    .dataframe tbody tr th {\n",
       "        vertical-align: top;\n",
       "    }\n",
       "\n",
       "    .dataframe thead th {\n",
       "        text-align: right;\n",
       "    }\n",
       "</style>\n",
       "<table border=\"1\" class=\"dataframe\">\n",
       "  <thead>\n",
       "    <tr style=\"text-align: right;\">\n",
       "      <th></th>\n",
       "      <th>Unnamed: 0</th>\n",
       "      <th>Agregado</th>\n",
       "      <th>CPF</th>\n",
       "      <th>Placa</th>\n",
       "      <th>Base_vinculado</th>\n",
       "      <th>Tipo_veiculo</th>\n",
       "      <th>Marca_do_veiculo</th>\n",
       "    </tr>\n",
       "  </thead>\n",
       "  <tbody>\n",
       "    <tr>\n",
       "      <th>0</th>\n",
       "      <td>0</td>\n",
       "      <td>ADEILTON JESUS DE SANTANA</td>\n",
       "      <td>1525260561</td>\n",
       "      <td>LOE9E90</td>\n",
       "      <td>REGIONAL SPONSOR RJ</td>\n",
       "      <td>CARRO</td>\n",
       "      <td>CITROEN JUMPER 320M</td>\n",
       "    </tr>\n",
       "    <tr>\n",
       "      <th>1</th>\n",
       "      <td>1</td>\n",
       "      <td>LUCAS AGUIAR DE CASTRO</td>\n",
       "      <td>6282445760</td>\n",
       "      <td>KXV9G53</td>\n",
       "      <td>RIO 01</td>\n",
       "      <td>CARRO</td>\n",
       "      <td>FIAT</td>\n",
       "    </tr>\n",
       "    <tr>\n",
       "      <th>2</th>\n",
       "      <td>2</td>\n",
       "      <td>ERNANI NASCIMENTO DE LIMA</td>\n",
       "      <td>17165926747</td>\n",
       "      <td>RJV3B38</td>\n",
       "      <td>REGIONAL SPONSOR RJ</td>\n",
       "      <td>MOTO</td>\n",
       "      <td>YAMAHA</td>\n",
       "    </tr>\n",
       "    <tr>\n",
       "      <th>3</th>\n",
       "      <td>3</td>\n",
       "      <td>LUCIANO VAGNER DA COSTA</td>\n",
       "      <td>11466980621</td>\n",
       "      <td>Ahs6441</td>\n",
       "      <td>RIO 01</td>\n",
       "      <td>CARRO</td>\n",
       "      <td>fiat</td>\n",
       "    </tr>\n",
       "    <tr>\n",
       "      <th>4</th>\n",
       "      <td>4</td>\n",
       "      <td>ALUIZIO CARLOS MIRANDA</td>\n",
       "      <td>7948591788</td>\n",
       "      <td>KQL1326</td>\n",
       "      <td>RIO 01</td>\n",
       "      <td>CARRO</td>\n",
       "      <td>Uno</td>\n",
       "    </tr>\n",
       "  </tbody>\n",
       "</table>\n",
       "</div>"
      ],
      "text/plain": [
       "   Unnamed: 0                   Agregado          CPF    Placa  \\\n",
       "0           0  ADEILTON JESUS DE SANTANA   1525260561  LOE9E90   \n",
       "1           1     LUCAS AGUIAR DE CASTRO   6282445760  KXV9G53   \n",
       "2           2  ERNANI NASCIMENTO DE LIMA  17165926747  RJV3B38   \n",
       "3           3    LUCIANO VAGNER DA COSTA  11466980621  Ahs6441   \n",
       "4           4     ALUIZIO CARLOS MIRANDA   7948591788  KQL1326   \n",
       "\n",
       "        Base_vinculado Tipo_veiculo     Marca_do_veiculo  \n",
       "0  REGIONAL SPONSOR RJ        CARRO  CITROEN JUMPER 320M  \n",
       "1               RIO 01        CARRO                 FIAT  \n",
       "2  REGIONAL SPONSOR RJ         MOTO               YAMAHA  \n",
       "3               RIO 01        CARRO                 fiat  \n",
       "4               RIO 01        CARRO                  Uno  "
      ]
     },
     "execution_count": 7,
     "metadata": {},
     "output_type": "execute_result"
    }
   ],
   "source": [
    "#importando os dados\n",
    "\n",
    "df_agregados = pd.read_csv('./agregados_full.csv', delimiter=',', encoding='utf-16')\n",
    "\n",
    "#Exibir o dataframe\n",
    "\n",
    "df_agregados.head()"
   ]
  },
  {
   "cell_type": "code",
   "execution_count": 8,
   "id": "76087b4d-39bc-4adc-93d7-b0b76f83e4a5",
   "metadata": {},
   "outputs": [
    {
     "data": {
      "text/plain": [
       "Unnamed: 0          0\n",
       "Agregado            0\n",
       "CPF                 0\n",
       "Placa               0\n",
       "Base_vinculado      7\n",
       "Tipo_veiculo        0\n",
       "Marca_do_veiculo    0\n",
       "dtype: int64"
      ]
     },
     "execution_count": 8,
     "metadata": {},
     "output_type": "execute_result"
    }
   ],
   "source": [
    "# Verificando os nulos\n",
    "\n",
    "df_agregados.isnull().sum()"
   ]
  },
  {
   "cell_type": "code",
   "execution_count": 9,
   "id": "6bea12a1-0c66-4d79-9858-d30f8982ed8d",
   "metadata": {},
   "outputs": [
    {
     "ename": "KeyError",
     "evalue": "'Nome da sua estação'",
     "output_type": "error",
     "traceback": [
      "\u001b[1;31m---------------------------------------------------------------------------\u001b[0m",
      "\u001b[1;31mKeyError\u001b[0m                                  Traceback (most recent call last)",
      "\u001b[1;32m~\\Anaconda3\\lib\\site-packages\\pandas\\core\\indexes\\base.py\u001b[0m in \u001b[0;36mget_loc\u001b[1;34m(self, key, method, tolerance)\u001b[0m\n\u001b[0;32m   3628\u001b[0m             \u001b[1;32mtry\u001b[0m\u001b[1;33m:\u001b[0m\u001b[1;33m\u001b[0m\u001b[1;33m\u001b[0m\u001b[0m\n\u001b[1;32m-> 3629\u001b[1;33m                 \u001b[1;32mreturn\u001b[0m \u001b[0mself\u001b[0m\u001b[1;33m.\u001b[0m\u001b[0m_engine\u001b[0m\u001b[1;33m.\u001b[0m\u001b[0mget_loc\u001b[0m\u001b[1;33m(\u001b[0m\u001b[0mcasted_key\u001b[0m\u001b[1;33m)\u001b[0m\u001b[1;33m\u001b[0m\u001b[1;33m\u001b[0m\u001b[0m\n\u001b[0m\u001b[0;32m   3630\u001b[0m             \u001b[1;32mexcept\u001b[0m \u001b[0mKeyError\u001b[0m \u001b[1;32mas\u001b[0m \u001b[0merr\u001b[0m\u001b[1;33m:\u001b[0m\u001b[1;33m\u001b[0m\u001b[1;33m\u001b[0m\u001b[0m\n",
      "\u001b[1;32m~\\Anaconda3\\lib\\site-packages\\pandas\\_libs\\index.pyx\u001b[0m in \u001b[0;36mpandas._libs.index.IndexEngine.get_loc\u001b[1;34m()\u001b[0m\n",
      "\u001b[1;32m~\\Anaconda3\\lib\\site-packages\\pandas\\_libs\\index.pyx\u001b[0m in \u001b[0;36mpandas._libs.index.IndexEngine.get_loc\u001b[1;34m()\u001b[0m\n",
      "\u001b[1;32mpandas\\_libs\\hashtable_class_helper.pxi\u001b[0m in \u001b[0;36mpandas._libs.hashtable.PyObjectHashTable.get_item\u001b[1;34m()\u001b[0m\n",
      "\u001b[1;32mpandas\\_libs\\hashtable_class_helper.pxi\u001b[0m in \u001b[0;36mpandas._libs.hashtable.PyObjectHashTable.get_item\u001b[1;34m()\u001b[0m\n",
      "\u001b[1;31mKeyError\u001b[0m: 'Nome da sua estação'",
      "\nThe above exception was the direct cause of the following exception:\n",
      "\u001b[1;31mKeyError\u001b[0m                                  Traceback (most recent call last)",
      "\u001b[1;32m~\\AppData\\Local\\Temp\\ipykernel_15664\\2123720189.py\u001b[0m in \u001b[0;36m<module>\u001b[1;34m\u001b[0m\n\u001b[1;32m----> 1\u001b[1;33m \u001b[0mdf_agregados\u001b[0m\u001b[1;33m[\u001b[0m\u001b[0mdf_agregados\u001b[0m\u001b[1;33m[\u001b[0m\u001b[1;34m'Nome da sua estação'\u001b[0m\u001b[1;33m]\u001b[0m\u001b[1;33m.\u001b[0m\u001b[0misnull\u001b[0m\u001b[1;33m(\u001b[0m\u001b[1;33m)\u001b[0m\u001b[1;33m]\u001b[0m\u001b[1;33m\u001b[0m\u001b[1;33m\u001b[0m\u001b[0m\n\u001b[0m",
      "\u001b[1;32m~\\Anaconda3\\lib\\site-packages\\pandas\\core\\frame.py\u001b[0m in \u001b[0;36m__getitem__\u001b[1;34m(self, key)\u001b[0m\n\u001b[0;32m   3503\u001b[0m             \u001b[1;32mif\u001b[0m \u001b[0mself\u001b[0m\u001b[1;33m.\u001b[0m\u001b[0mcolumns\u001b[0m\u001b[1;33m.\u001b[0m\u001b[0mnlevels\u001b[0m \u001b[1;33m>\u001b[0m \u001b[1;36m1\u001b[0m\u001b[1;33m:\u001b[0m\u001b[1;33m\u001b[0m\u001b[1;33m\u001b[0m\u001b[0m\n\u001b[0;32m   3504\u001b[0m                 \u001b[1;32mreturn\u001b[0m \u001b[0mself\u001b[0m\u001b[1;33m.\u001b[0m\u001b[0m_getitem_multilevel\u001b[0m\u001b[1;33m(\u001b[0m\u001b[0mkey\u001b[0m\u001b[1;33m)\u001b[0m\u001b[1;33m\u001b[0m\u001b[1;33m\u001b[0m\u001b[0m\n\u001b[1;32m-> 3505\u001b[1;33m             \u001b[0mindexer\u001b[0m \u001b[1;33m=\u001b[0m \u001b[0mself\u001b[0m\u001b[1;33m.\u001b[0m\u001b[0mcolumns\u001b[0m\u001b[1;33m.\u001b[0m\u001b[0mget_loc\u001b[0m\u001b[1;33m(\u001b[0m\u001b[0mkey\u001b[0m\u001b[1;33m)\u001b[0m\u001b[1;33m\u001b[0m\u001b[1;33m\u001b[0m\u001b[0m\n\u001b[0m\u001b[0;32m   3506\u001b[0m             \u001b[1;32mif\u001b[0m \u001b[0mis_integer\u001b[0m\u001b[1;33m(\u001b[0m\u001b[0mindexer\u001b[0m\u001b[1;33m)\u001b[0m\u001b[1;33m:\u001b[0m\u001b[1;33m\u001b[0m\u001b[1;33m\u001b[0m\u001b[0m\n\u001b[0;32m   3507\u001b[0m                 \u001b[0mindexer\u001b[0m \u001b[1;33m=\u001b[0m \u001b[1;33m[\u001b[0m\u001b[0mindexer\u001b[0m\u001b[1;33m]\u001b[0m\u001b[1;33m\u001b[0m\u001b[1;33m\u001b[0m\u001b[0m\n",
      "\u001b[1;32m~\\Anaconda3\\lib\\site-packages\\pandas\\core\\indexes\\base.py\u001b[0m in \u001b[0;36mget_loc\u001b[1;34m(self, key, method, tolerance)\u001b[0m\n\u001b[0;32m   3629\u001b[0m                 \u001b[1;32mreturn\u001b[0m \u001b[0mself\u001b[0m\u001b[1;33m.\u001b[0m\u001b[0m_engine\u001b[0m\u001b[1;33m.\u001b[0m\u001b[0mget_loc\u001b[0m\u001b[1;33m(\u001b[0m\u001b[0mcasted_key\u001b[0m\u001b[1;33m)\u001b[0m\u001b[1;33m\u001b[0m\u001b[1;33m\u001b[0m\u001b[0m\n\u001b[0;32m   3630\u001b[0m             \u001b[1;32mexcept\u001b[0m \u001b[0mKeyError\u001b[0m \u001b[1;32mas\u001b[0m \u001b[0merr\u001b[0m\u001b[1;33m:\u001b[0m\u001b[1;33m\u001b[0m\u001b[1;33m\u001b[0m\u001b[0m\n\u001b[1;32m-> 3631\u001b[1;33m                 \u001b[1;32mraise\u001b[0m \u001b[0mKeyError\u001b[0m\u001b[1;33m(\u001b[0m\u001b[0mkey\u001b[0m\u001b[1;33m)\u001b[0m \u001b[1;32mfrom\u001b[0m \u001b[0merr\u001b[0m\u001b[1;33m\u001b[0m\u001b[1;33m\u001b[0m\u001b[0m\n\u001b[0m\u001b[0;32m   3632\u001b[0m             \u001b[1;32mexcept\u001b[0m \u001b[0mTypeError\u001b[0m\u001b[1;33m:\u001b[0m\u001b[1;33m\u001b[0m\u001b[1;33m\u001b[0m\u001b[0m\n\u001b[0;32m   3633\u001b[0m                 \u001b[1;31m# If we have a listlike key, _check_indexing_error will raise\u001b[0m\u001b[1;33m\u001b[0m\u001b[1;33m\u001b[0m\u001b[0m\n",
      "\u001b[1;31mKeyError\u001b[0m: 'Nome da sua estação'"
     ]
    }
   ],
   "source": [
    "df_agregados[df_agregados['Nome da sua estação'].isnull()]"
   ]
  },
  {
   "cell_type": "code",
   "execution_count": null,
   "id": "a4197832-f0ea-4265-90d1-4e68b306c6a8",
   "metadata": {},
   "outputs": [],
   "source": [
    "#Modificando os nomes das colunas \n",
    "\n",
    "df_agregados.rename(columns={'Nome do condutor':'Agregado',\n",
    "                             'Nome da sua estação':'Base_vinculado',\n",
    "                             'Nome de tipo de veículo':'Tipo_veiculo'},inplace=True)\n",
    "\n",
    "#Exibindo o dataframe\n",
    "df_agregados.info()"
   ]
  },
  {
   "cell_type": "code",
   "execution_count": null,
   "id": "bb37eb39-9bdc-40fc-941c-30f1288555a4",
   "metadata": {},
   "outputs": [],
   "source": [
    "#Verificando as distribuições dos valores\n",
    "df_agregados['Tipo_veiculo'].unique()"
   ]
  },
  {
   "cell_type": "code",
   "execution_count": null,
   "id": "a98c36f4-b7b9-42ca-8974-0f747a334cbc",
   "metadata": {},
   "outputs": [],
   "source": [
    "#Modificando os tipo de veiculo somente \"CARRO\" e \"MOTO\"\n",
    "\n",
    "df_agregados['Tipo_veiculo'] = df_agregados['Tipo_veiculo'].replace('VAN','CARRO')\n",
    "\n",
    "df_agregados['Tipo_veiculo'] = df_agregados['Tipo_veiculo'].replace('FIORINO','CARRO')\n",
    "\n",
    "df_agregados['Tipo_veiculo'] = df_agregados['Tipo_veiculo'].replace('Utilitário','CARRO')\n",
    "\n",
    "df_agregados['Tipo_veiculo'] = df_agregados['Tipo_veiculo'].replace('HR-Furgão','CARRO')\n",
    "\n",
    "df_agregados['Tipo_veiculo'] = df_agregados['Tipo_veiculo'].replace('PASSEIO','CARRO')\n",
    "\n",
    "df_agregados['Tipo_veiculo'] = df_agregados['Tipo_veiculo'].replace('Truck','CARRO')\n",
    "\n",
    "df_agregados['Tipo_veiculo'] = df_agregados['Tipo_veiculo'].replace('Furgao','CARRO')\n",
    "\n",
    "df_agregados['Tipo_veiculo'] = df_agregados['Tipo_veiculo'].replace('VUC','CARRO')\n",
    "\n",
    "df_agregados['Tipo_veiculo'] = df_agregados['Tipo_veiculo'].replace('3/4','CARRO')\n",
    "\n",
    "df_agregados['Tipo_veiculo'] = df_agregados['Tipo_veiculo'].replace('Baú','CARRO')\n",
    "\n",
    "df_agregados['Tipo_veiculo'] = df_agregados['Tipo_veiculo'].replace('Camionete','CARRO')\n",
    "\n",
    "df_agregados['Tipo_veiculo'] = df_agregados['Tipo_veiculo'].replace('Moto','MOTO')\n",
    "\n",
    "# Exibindo a ditribuição \n",
    "df_agregados['Tipo_veiculo'].unique()\n"
   ]
  },
  {
   "cell_type": "raw",
   "id": "1e3d752e-f8ed-4e2d-aba3-a449170a9761",
   "metadata": {},
   "source": [
    "#Modificando os tipo de veiculo somente \"CARRO\" e \"MOTO\"\n",
    "\n",
    "df_agregados['Tipo_veiculo'] = df_agregados['Tipo_veiculo'].replace('FIORINO','CARRO')\n",
    "\n",
    "# Exibindo a ditribuição novamente\n",
    "df_agregados['Tipo_veiculo'].unique()\n"
   ]
  },
  {
   "cell_type": "markdown",
   "id": "d6481768-e5c7-4f2b-a4bc-d49e7b267973",
   "metadata": {},
   "source": [
    "#Modificando os tipo de veiculo somente \"CARRO\" e \"MOTO\"\n",
    "\n",
    "df_agregados['Tipo_veiculo'] = df_agregados['Tipo_veiculo'].replace('Utilitário','CARRO')\n",
    "\n",
    "# Exibindo a ditribuição novamente\n",
    "df_agregados['Tipo_veiculo'].unique()\n"
   ]
  },
  {
   "cell_type": "markdown",
   "id": "cdf64cdc-ada1-47ce-84e3-b0b99e8f5c27",
   "metadata": {},
   "source": [
    "#Modificando os tipo de veiculo somente \"CARRO\" e \"MOTO\"\n",
    "\n",
    "df_agregados['Tipo_veiculo'] = df_agregados['Tipo_veiculo'].replace('HR-Furgão','CARRO')\n",
    "\n",
    "# Exibindo a ditribuição novamente\n",
    "df_agregados['Tipo_veiculo'].unique()\n"
   ]
  },
  {
   "cell_type": "markdown",
   "id": "5e7a185d-fcd7-4230-b90b-4a89a42011db",
   "metadata": {},
   "source": [
    "#Modificando os tipo de veiculo somente \"CARRO\" e \"MOTO\"\n",
    "\n",
    "df_agregados['Tipo_veiculo'] = df_agregados['Tipo_veiculo'].replace('PASSEIO','CARRO')\n",
    "\n",
    "# Exibindo a ditribuição novamente\n",
    "df_agregados['Tipo_veiculo'].unique()\n"
   ]
  },
  {
   "cell_type": "markdown",
   "id": "90ed5930-36a6-481b-8891-cc71dce609db",
   "metadata": {},
   "source": [
    "#Modificando os tipo de veiculo somente \"CARRO\" e \"MOTO\"\n",
    "\n",
    "df_agregados['Tipo_veiculo'] = df_agregados['Tipo_veiculo'].replace('Truck','CARRO')\n",
    "\n",
    "# Exibindo a ditribuição novamente\n",
    "df_agregados['Tipo_veiculo'].unique()\n"
   ]
  },
  {
   "cell_type": "markdown",
   "id": "35935f59-9eff-42c7-9ae2-52469e4a2291",
   "metadata": {},
   "source": [
    "#Modificando os tipo de veiculo somente \"CARRO\" e \"MOTO\"\n",
    "\n",
    "df_agregados['Tipo_veiculo'] = df_agregados['Tipo_veiculo'].replace('Furgao','CARRO')\n",
    "\n",
    "df_agregados['Tipo_veiculo'] = df_agregados['Tipo_veiculo'].replace('VUC','CARRO')\n",
    "\n",
    "df_agregados['Tipo_veiculo'] = df_agregados['Tipo_veiculo'].replace('3/4','CARRO')\n",
    "\n",
    "df_agregados['Tipo_veiculo'] = df_agregados['Tipo_veiculo'].replace('Baú','CARRO')\n",
    "\n",
    "df_agregados['Tipo_veiculo'] = df_agregados['Tipo_veiculo'].replace('Moto','MOTO')\n",
    "\n",
    "# Exibindo a ditribuição novamente\n",
    "df_agregados['Tipo_veiculo'].unique()\n"
   ]
  },
  {
   "cell_type": "code",
   "execution_count": null,
   "id": "c3fa0751-5e09-457f-a719-7916e40960f7",
   "metadata": {},
   "outputs": [],
   "source": [
    "df_agregados.head()"
   ]
  },
  {
   "cell_type": "code",
   "execution_count": null,
   "id": "d8f4a8a8-c152-412d-90b2-39d1692473e4",
   "metadata": {},
   "outputs": [],
   "source": [
    "#Colocando a coluna 'Agregado\" com letras maíusculas\n",
    "\n",
    "df_agregados['Agregado'] = df_agregados['Agregado'].str.upper()\n",
    "\n",
    "#exibindo\n",
    "df_agregados.head()"
   ]
  },
  {
   "cell_type": "code",
   "execution_count": null,
   "id": "fa658953-87ca-4027-8027-b53c1b814e1c",
   "metadata": {},
   "outputs": [],
   "source": [
    "df_agregados.shape"
   ]
  },
  {
   "cell_type": "code",
   "execution_count": null,
   "id": "1c4d188b-ba1f-41db-85f4-ac34fb494c1d",
   "metadata": {},
   "outputs": [],
   "source": [
    "#Excluíndo os cpf duplicados\n",
    "df_agregados_01 = df_agregados.drop_duplicates(subset=['CPF'])\n",
    "\n",
    "# exibindo a dimensão sem os cpf duplicados\n",
    "\n",
    "df_agregados_01.shape"
   ]
  },
  {
   "cell_type": "code",
   "execution_count": null,
   "id": "d414d8b7-c849-48a5-ae88-80e69b95e0c4",
   "metadata": {},
   "outputs": [],
   "source": [
    "df_agregados_01.rename(columns={'Marca do veículo':'Marca_do_veiculo'}, inplace=True)\n",
    "\n",
    "#exibindo\n",
    "df_agregados_01.head()"
   ]
  },
  {
   "cell_type": "code",
   "execution_count": null,
   "id": "c151d5c1-ec8e-40db-9fcf-c93d802ab346",
   "metadata": {},
   "outputs": [],
   "source": [
    "df_agregados_01.to_csv('agregados_full.csv',encoding='utf-16')"
   ]
  }
 ],
 "metadata": {
  "kernelspec": {
   "display_name": "Python 3 (ipykernel)",
   "language": "python",
   "name": "python3"
  },
  "language_info": {
   "codemirror_mode": {
    "name": "ipython",
    "version": 3
   },
   "file_extension": ".py",
   "mimetype": "text/x-python",
   "name": "python",
   "nbconvert_exporter": "python",
   "pygments_lexer": "ipython3",
   "version": "3.11.5"
  }
 },
 "nbformat": 4,
 "nbformat_minor": 5
}
